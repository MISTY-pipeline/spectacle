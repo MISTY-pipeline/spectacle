{
 "cells": [
  {
   "cell_type": "code",
   "execution_count": 1,
   "metadata": {},
   "outputs": [
    {
     "ename": "ModuleNotFoundError",
     "evalue": "No module named 'spectacle'",
     "output_type": "error",
     "traceback": [
      "\u001b[0;31m---------------------------------------------------------------------------\u001b[0m",
      "\u001b[0;31mModuleNotFoundError\u001b[0m                       Traceback (most recent call last)",
      "\u001b[0;32m<ipython-input-1-401dac3ecdd7>\u001b[0m in \u001b[0;36m<module>\u001b[0;34m()\u001b[0m\n\u001b[1;32m      5\u001b[0m \u001b[0;32mfrom\u001b[0m \u001b[0mastropy\u001b[0m\u001b[0;34m.\u001b[0m\u001b[0mio\u001b[0m \u001b[0;32mimport\u001b[0m \u001b[0mfits\u001b[0m\u001b[0;34m\u001b[0m\u001b[0m\n\u001b[1;32m      6\u001b[0m \u001b[0;34m\u001b[0m\u001b[0m\n\u001b[0;32m----> 7\u001b[0;31m \u001b[0;32mfrom\u001b[0m \u001b[0mspectacle\u001b[0m\u001b[0;34m.\u001b[0m\u001b[0mcore\u001b[0m\u001b[0;34m.\u001b[0m\u001b[0mspectrum\u001b[0m \u001b[0;32mimport\u001b[0m \u001b[0mSpectrum1D\u001b[0m\u001b[0;34m\u001b[0m\u001b[0m\n\u001b[0m\u001b[1;32m      8\u001b[0m \u001b[0;32mfrom\u001b[0m \u001b[0mspectacle\u001b[0m\u001b[0;34m.\u001b[0m\u001b[0mmodeling\u001b[0m\u001b[0;34m.\u001b[0m\u001b[0mcustom\u001b[0m \u001b[0;32mimport\u001b[0m \u001b[0mMasker\u001b[0m\u001b[0;34m\u001b[0m\u001b[0m\n\u001b[1;32m      9\u001b[0m \u001b[0;32mfrom\u001b[0m \u001b[0mspectacle\u001b[0m\u001b[0;34m.\u001b[0m\u001b[0mmodeling\u001b[0m\u001b[0;34m.\u001b[0m\u001b[0mfitters\u001b[0m \u001b[0;32mimport\u001b[0m \u001b[0mMCMCFitter\u001b[0m\u001b[0;34m\u001b[0m\u001b[0m\n",
      "\u001b[0;31mModuleNotFoundError\u001b[0m: No module named 'spectacle'"
     ]
    }
   ],
   "source": [
    "from astropy.modeling import models, Fittable1DModel, Parameter\n",
    "from astropy.modeling.fitting import LevMarLSQFitter\n",
    "import astropy.units as u\n",
    "import astropy.constants as const\n",
    "from astropy.io import fits\n",
    "\n",
    "from spectacle.core.spectrum import Spectrum1D\n",
    "from spectacle.modeling.custom import Masker\n",
    "from spectacle.modeling.fitters import MCMCFitter\n",
    "from spectacle.analysis.line_finder import LineFinder\n",
    "from spectacle.io.registries import line_registry\n",
    "\n",
    "import numpy as np\n",
    "import matplotlib.pyplot as plt"
   ]
  },
  {
   "cell_type": "code",
   "execution_count": null,
   "metadata": {
    "collapsed": true
   },
   "outputs": [],
   "source": [
    "%matplotlib notebook"
   ]
  },
  {
   "cell_type": "code",
   "execution_count": null,
   "metadata": {
    "collapsed": true
   },
   "outputs": [],
   "source": [
    "wavelength = np.linspace(1210, 1220, 1000) * u.Angstrom\n",
    "velocity = np.linspace(-400, 800, 1000) * u.Unit(\"km/s\")\n",
    "redshift = 2\n",
    "\n",
    "dispersion = velocity\n",
    "\n",
    "with fits.open(\"/Users/nearl/Downloads/hlsp_misty_foggie_halo008508_rd0020_i021.8_dx44.99_v2_los.fits\") as hdulist:\n",
    "    y = hdulist[2].data['flux']\n",
    "    dispersion = hdulist[2].data['wavelength'] * u.Unit('Angstrom')\n",
    "    line_name = hdulist[2].header['LINENAME']"
   ]
  },
  {
   "cell_type": "code",
   "execution_count": null,
   "metadata": {},
   "outputs": [],
   "source": [
    "spectrum = Spectrum1D(ion=line_name, redshift=redshift)\n",
    "spectrum.add_line(v_doppler=9e6 * u.Unit('cm/s'))\n",
    "spectrum.add_line(v_doppler=3.5e6 * u.Unit('cm/s'), delta_v=290 * u.Unit('km/s'))\n",
    "# dispersion = spectrum._redshift_model.inverse(dispersion)\n",
    "\n",
    "# print(dispersion[0])\n",
    "print(dispersion)\n",
    "# y = spectrum.optical_depth(dispersion)"
   ]
  },
  {
   "cell_type": "code",
   "execution_count": null,
   "metadata": {},
   "outputs": [],
   "source": [
    "print(spectrum.optical_depth)\n",
    "\n",
    "f, ax = plt.subplots()\n",
    "\n",
    "ax.plot(dispersion, y)"
   ]
  },
  {
   "cell_type": "code",
   "execution_count": null,
   "metadata": {},
   "outputs": [],
   "source": [
    "line_finder = LineFinder(dispersion, y, ion_name=line_name, redshift=redshift, data_type='flux', threshold=0.1)\n",
    "print(line_finder)\n",
    "spec_mod = line_finder.fit()\n"
   ]
  },
  {
   "cell_type": "code",
   "execution_count": null,
   "metadata": {},
   "outputs": [],
   "source": [
    "print(spec_mod.fixed)\n",
    "\n",
    "[print(\"{:16}: {:e}\".format(*x)) for x in zip(spec_mod.param_names, spec_mod.parameters)]\n",
    "\n",
    "f, ax = plt.subplots()\n",
    "# ax.plot(dispersion, y)\n",
    "ax.plot(dispersion, spec_mod(dispersion))"
   ]
  },
  {
   "cell_type": "code",
   "execution_count": null,
   "metadata": {},
   "outputs": [],
   "source": [
    "fitter = LevMarLSQFitter()\n",
    "\n",
    "fit_spec_mod = fitter(spec_mod, dispersion, y)\n",
    "print(fit_spec_mod)"
   ]
  },
  {
   "cell_type": "code",
   "execution_count": null,
   "metadata": {},
   "outputs": [],
   "source": [
    "f, ax = plt.subplots()\n",
    "\n",
    "ax.plot(dispersion, y)\n",
    "ax.plot(dispersion, spec_mod(dispersion))\n",
    "ax.plot(dispersion, fit_spec_mod(dispersion))"
   ]
  },
  {
   "cell_type": "code",
   "execution_count": null,
   "metadata": {
    "collapsed": true
   },
   "outputs": [],
   "source": []
  }
 ],
 "metadata": {
  "kernelspec": {
   "display_name": "Python 3",
   "language": "python",
   "name": "python3"
  },
  "language_info": {
   "codemirror_mode": {
    "name": "ipython",
    "version": 3
   },
   "file_extension": ".py",
   "mimetype": "text/x-python",
   "name": "python",
   "nbconvert_exporter": "python",
   "pygments_lexer": "ipython3",
   "version": "3.6.1"
  }
 },
 "nbformat": 4,
 "nbformat_minor": 2
}
