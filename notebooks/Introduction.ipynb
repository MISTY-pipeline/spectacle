{
 "cells": [
  {
   "cell_type": "code",
   "execution_count": 1,
   "metadata": {},
   "outputs": [
    {
     "name": "stderr",
     "output_type": "stream",
     "text": [
      "INFO:root:Added misty to custom loaders.\n",
      "INFO:root:Added my-format to custom loaders.\n"
     ]
    }
   ],
   "source": [
    "from spectacle.core.spectra import Spectrum1D\n",
    "from spectacle.modeling.models import Absorption1D\n",
    "from spectacle.process.lsf import COSLSF\n",
    "from spectacle.core.lines import Line\n",
    "import matplotlib.pyplot as plt\n",
    "import numpy as np\n",
    "\n",
    "# import seaborn"
   ]
  },
  {
   "cell_type": "code",
   "execution_count": 2,
   "metadata": {
    "collapsed": true
   },
   "outputs": [],
   "source": [
    "%matplotlib notebook\n",
    "# plt.rcParams[\"figure.figsize\"] = [16, 8]"
   ]
  },
  {
   "cell_type": "markdown",
   "metadata": {},
   "source": [
    "# Generate a spectrum\n",
    "Create a mock spectrum with an H$\\alpha$ ($\\lambda = 1215\\;\\mathrm{Angstom}$) absorption feature with $f = 0.4164$, $b = 100\\; \\mathrm{km/s}$, and column density $n = 10^{14.66}\\;\\mathrm{cm^{-2}}$."
   ]
  },
  {
   "cell_type": "code",
   "execution_count": 3,
   "metadata": {},
   "outputs": [
    {
     "name": "stdout",
     "output_type": "stream",
     "text": [
      "<Table length=329>\n",
      "  name      wave   osc_str     gamma    \n",
      "          Angstrom                      \n",
      "  str9    float64  float64    float64   \n",
      "-------- --------- -------- ------------\n",
      "  HI1216 1215.6701   0.4164  626500000.0\n",
      "  HI1026 1025.7223  0.07912  189700000.0\n",
      "   HI973  972.5368    0.029   81270000.0\n",
      "   HI950  949.7431  0.01394   42040000.0\n",
      "   HI938  937.8035 0.007799   24500000.0\n",
      "   HI931  930.7483 0.004814   12360000.0\n",
      "   HI926  926.2257 0.003183    8255000.0\n",
      "   HI923  923.1504 0.002216    5785000.0\n",
      "   HI921  920.9631 0.001605    4210000.0\n",
      "     ...       ...      ...          ...\n",
      "NiII1455  1454.842   0.0323  102000000.0\n",
      "NiII1393  1393.324   0.0101   34700000.0\n",
      "NiII1370  1370.131   0.0769  410000000.0\n",
      "NiII1317  1317.217  0.07786  420500000.0\n",
      "CuII1368 1367.9509    0.179  623000000.0\n",
      "CuII1359  1358.773   0.3803  720000000.0\n",
      "ZnII2063  2062.664    0.256  386000000.0\n",
      "ZnII2026  2026.136    0.489  407000000.0\n",
      "GeII1602 1602.4863   0.1436  990600000.0\n",
      "GaII1414  1414.402      1.8 1970000000.0\n"
     ]
    }
   ],
   "source": [
    "# Get a listing available pre-defined lines\n",
    "from spectacle.core.registries import line_registry\n",
    "print(line_registry)"
   ]
  },
  {
   "cell_type": "markdown",
   "metadata": {},
   "source": [
    "## Create lines"
   ]
  },
  {
   "cell_type": "code",
   "execution_count": 4,
   "metadata": {
    "scrolled": true
   },
   "outputs": [
    {
     "name": "stderr",
     "output_type": "stream",
     "text": [
      "WARNING:root:Gamma is being tied to values within your ionlookup table.\n"
     ]
    }
   ],
   "source": [
    "# Create a line by name\n",
    "line1 = Line(name=\"NV1239\")\n",
    "\n",
    "# Add line explicitly\n",
    "line2 = Line(name=\"SomeLine\", lambda_0=1.21567010E+03, f_value=0.4164, v_doppler=2.5e7, column_density=14.66, gamma=6.2650000e+08)"
   ]
  },
  {
   "cell_type": "markdown",
   "metadata": {},
   "source": [
    "## Create absorption model"
   ]
  },
  {
   "cell_type": "code",
   "execution_count": 5,
   "metadata": {},
   "outputs": [],
   "source": [
    "# Create an absorption model using the lines we defined above\n",
    "model = Absorption1D(lines=[line1, line2], delta_lambda=100)"
   ]
  },
  {
   "cell_type": "markdown",
   "metadata": {},
   "source": [
    "## Create spectrum"
   ]
  },
  {
   "cell_type": "code",
   "execution_count": 6,
   "metadata": {},
   "outputs": [
    {
     "ename": "UnitsError",
     "evalue": "Can only apply 'add' function to dimensionless quantities when other argument is not a quantity (unless the latter is all zero/infinity/nan)",
     "output_type": "error",
     "traceback": [
      "\u001b[0;31m---------------------------------------------------------------------------\u001b[0m",
      "\u001b[0;31mUnitsError\u001b[0m                                Traceback (most recent call last)",
      "\u001b[0;32m<ipython-input-6-0a9085e7cbe3>\u001b[0m in \u001b[0;36m<module>\u001b[0;34m()\u001b[0m\n\u001b[1;32m      1\u001b[0m \u001b[0;31m# Define the wavelength range, and then create the spectrum\u001b[0m\u001b[0;34m\u001b[0m\u001b[0;34m\u001b[0m\u001b[0m\n\u001b[1;32m      2\u001b[0m \u001b[0mdispersion\u001b[0m \u001b[0;34m=\u001b[0m \u001b[0mnp\u001b[0m\u001b[0;34m.\u001b[0m\u001b[0mlinspace\u001b[0m\u001b[0;34m(\u001b[0m\u001b[0;36m1000\u001b[0m\u001b[0;34m,\u001b[0m \u001b[0;36m1500\u001b[0m\u001b[0;34m,\u001b[0m \u001b[0;36m2000\u001b[0m\u001b[0;34m)\u001b[0m\u001b[0;34m\u001b[0m\u001b[0m\n\u001b[0;32m----> 3\u001b[0;31m \u001b[0mspectrum\u001b[0m \u001b[0;34m=\u001b[0m \u001b[0mmodel\u001b[0m\u001b[0;34m(\u001b[0m\u001b[0mdispersion\u001b[0m\u001b[0;34m)\u001b[0m\u001b[0;34m\u001b[0m\u001b[0m\n\u001b[0m\u001b[1;32m      4\u001b[0m \u001b[0;34m\u001b[0m\u001b[0m\n\u001b[1;32m      5\u001b[0m \u001b[0;31m# The spectrum also contains basic information about where the lines are\u001b[0m\u001b[0;34m\u001b[0m\u001b[0;34m\u001b[0m\u001b[0m\n",
      "\u001b[0;32m/Users/nearl/projects/spectacle/spectacle/modeling/models.py\u001b[0m in \u001b[0;36mcall\u001b[0;34m(self, dispersion, uncertainty, dispersion_unit, *args, **kwargs)\u001b[0m\n\u001b[1;32m     93\u001b[0m \u001b[0;34m\u001b[0m\u001b[0m\n\u001b[1;32m     94\u001b[0m             flux = super(abs_mod.__class__, self).__call__(dispersion,\n\u001b[0;32m---> 95\u001b[0;31m                                                            *args, **kwargs)\n\u001b[0m\u001b[1;32m     96\u001b[0m             spectrum = Spectrum1D(flux, dispersion=dispersion,\n\u001b[1;32m     97\u001b[0m                                   \u001b[0mdispersion_unit\u001b[0m\u001b[0;34m=\u001b[0m\u001b[0mdispersion_unit\u001b[0m\u001b[0;34m,\u001b[0m \u001b[0mlines\u001b[0m\u001b[0;34m=\u001b[0m\u001b[0mlines\u001b[0m\u001b[0;34m,\u001b[0m\u001b[0;34m\u001b[0m\u001b[0m\n",
      "\u001b[0;32m/Users/nearl/anaconda3/envs/spec_env/lib/python3.6/site-packages/astropy/modeling/core.py\u001b[0m in \u001b[0;36m__call__\u001b[0;34m(self, *inputs, **kwargs)\u001b[0m\n\u001b[1;32m    685\u001b[0m         \u001b[0mparameters\u001b[0m \u001b[0;34m=\u001b[0m \u001b[0mself\u001b[0m\u001b[0;34m.\u001b[0m\u001b[0m_param_sets\u001b[0m\u001b[0;34m(\u001b[0m\u001b[0mraw\u001b[0m\u001b[0;34m=\u001b[0m\u001b[0;32mTrue\u001b[0m\u001b[0;34m)\u001b[0m\u001b[0;34m\u001b[0m\u001b[0m\n\u001b[1;32m    686\u001b[0m \u001b[0;34m\u001b[0m\u001b[0m\n\u001b[0;32m--> 687\u001b[0;31m         \u001b[0moutputs\u001b[0m \u001b[0;34m=\u001b[0m \u001b[0mself\u001b[0m\u001b[0;34m.\u001b[0m\u001b[0mevaluate\u001b[0m\u001b[0;34m(\u001b[0m\u001b[0;34m*\u001b[0m\u001b[0mchain\u001b[0m\u001b[0;34m(\u001b[0m\u001b[0minputs\u001b[0m\u001b[0;34m,\u001b[0m \u001b[0mparameters\u001b[0m\u001b[0;34m)\u001b[0m\u001b[0;34m)\u001b[0m\u001b[0;34m\u001b[0m\u001b[0m\n\u001b[0m\u001b[1;32m    688\u001b[0m \u001b[0;34m\u001b[0m\u001b[0m\n\u001b[1;32m    689\u001b[0m         \u001b[0;32mif\u001b[0m \u001b[0mself\u001b[0m\u001b[0;34m.\u001b[0m\u001b[0mn_outputs\u001b[0m \u001b[0;34m==\u001b[0m \u001b[0;36m1\u001b[0m\u001b[0;34m:\u001b[0m\u001b[0;34m\u001b[0m\u001b[0m\n",
      "\u001b[0;32m/Users/nearl/anaconda3/envs/spec_env/lib/python3.6/site-packages/astropy/modeling/core.py\u001b[0m in \u001b[0;36mevaluate\u001b[0;34m(self, *args)\u001b[0m\n\u001b[1;32m   2457\u001b[0m     \u001b[0;34m@\u001b[0m\u001b[0msharedmethod\u001b[0m\u001b[0;34m\u001b[0m\u001b[0m\n\u001b[1;32m   2458\u001b[0m     \u001b[0;32mdef\u001b[0m \u001b[0mevaluate\u001b[0m\u001b[0;34m(\u001b[0m\u001b[0mself\u001b[0m\u001b[0;34m,\u001b[0m \u001b[0;34m*\u001b[0m\u001b[0margs\u001b[0m\u001b[0;34m)\u001b[0m\u001b[0;34m:\u001b[0m\u001b[0;34m\u001b[0m\u001b[0m\n\u001b[0;32m-> 2459\u001b[0;31m         \u001b[0;32mreturn\u001b[0m \u001b[0mself\u001b[0m\u001b[0;34m.\u001b[0m\u001b[0m__class__\u001b[0m\u001b[0;34m.\u001b[0m\u001b[0mevaluate\u001b[0m\u001b[0;34m(\u001b[0m\u001b[0;34m*\u001b[0m\u001b[0margs\u001b[0m\u001b[0;34m)\u001b[0m\u001b[0;34m\u001b[0m\u001b[0m\n\u001b[0m\u001b[1;32m   2460\u001b[0m \u001b[0;34m\u001b[0m\u001b[0m\n\u001b[1;32m   2461\u001b[0m     \u001b[0;31m# TODO: The way this works is highly inefficient--the inverse is created by\u001b[0m\u001b[0;34m\u001b[0m\u001b[0;34m\u001b[0m\u001b[0m\n",
      "\u001b[0;32m/Users/nearl/anaconda3/envs/spec_env/lib/python3.6/site-packages/astropy/modeling/core.py\u001b[0m in \u001b[0;36mevaluate\u001b[0;34m(cls, *args)\u001b[0m\n\u001b[1;32m   1927\u001b[0m         \u001b[0minputs\u001b[0m \u001b[0;34m=\u001b[0m \u001b[0margs\u001b[0m\u001b[0;34m[\u001b[0m\u001b[0;34m:\u001b[0m\u001b[0mcls\u001b[0m\u001b[0;34m.\u001b[0m\u001b[0mn_inputs\u001b[0m\u001b[0;34m]\u001b[0m\u001b[0;34m\u001b[0m\u001b[0m\n\u001b[1;32m   1928\u001b[0m         \u001b[0mparams\u001b[0m \u001b[0;34m=\u001b[0m \u001b[0miter\u001b[0m\u001b[0;34m(\u001b[0m\u001b[0margs\u001b[0m\u001b[0;34m[\u001b[0m\u001b[0mcls\u001b[0m\u001b[0;34m.\u001b[0m\u001b[0mn_inputs\u001b[0m\u001b[0;34m:\u001b[0m\u001b[0;34m]\u001b[0m\u001b[0;34m)\u001b[0m\u001b[0;34m\u001b[0m\u001b[0m\n\u001b[0;32m-> 1929\u001b[0;31m         \u001b[0mresult\u001b[0m \u001b[0;34m=\u001b[0m \u001b[0mcls\u001b[0m\u001b[0;34m.\u001b[0m\u001b[0m_evaluate\u001b[0m\u001b[0;34m(\u001b[0m\u001b[0minputs\u001b[0m\u001b[0;34m,\u001b[0m \u001b[0mparams\u001b[0m\u001b[0;34m)\u001b[0m\u001b[0;34m\u001b[0m\u001b[0m\n\u001b[0m\u001b[1;32m   1930\u001b[0m \u001b[0;34m\u001b[0m\u001b[0m\n\u001b[1;32m   1931\u001b[0m         \u001b[0;32mif\u001b[0m \u001b[0mcls\u001b[0m\u001b[0;34m.\u001b[0m\u001b[0mn_outputs\u001b[0m \u001b[0;34m==\u001b[0m \u001b[0;36m1\u001b[0m\u001b[0;34m:\u001b[0m\u001b[0;34m\u001b[0m\u001b[0m\n",
      "\u001b[0;32m/Users/nearl/anaconda3/envs/spec_env/lib/python3.6/site-packages/astropy/modeling/utils.py\u001b[0m in \u001b[0;36m<lambda>\u001b[0;34m(inputs, params)\u001b[0m\n\u001b[1;32m    445\u001b[0m \u001b[0;34m\u001b[0m\u001b[0m\n\u001b[1;32m    446\u001b[0m     \u001b[0;32mreturn\u001b[0m \u001b[0;32mlambda\u001b[0m \u001b[0minputs\u001b[0m\u001b[0;34m,\u001b[0m \u001b[0mparams\u001b[0m\u001b[0;34m:\u001b[0m\u001b[0;31m \u001b[0m\u001b[0;31m\\\u001b[0m\u001b[0;34m\u001b[0m\u001b[0m\n\u001b[0;32m--> 447\u001b[0;31m             tuple(oper(x, y) for x, y in zip(f(inputs, params),\n\u001b[0m\u001b[1;32m    448\u001b[0m                                              g(inputs, params)))\n\u001b[1;32m    449\u001b[0m \u001b[0;34m\u001b[0m\u001b[0m\n",
      "\u001b[0;32m/Users/nearl/anaconda3/envs/spec_env/lib/python3.6/site-packages/astropy/modeling/utils.py\u001b[0m in \u001b[0;36m<lambda>\u001b[0;34m(inputs, params)\u001b[0m\n\u001b[1;32m    446\u001b[0m     \u001b[0;32mreturn\u001b[0m \u001b[0;32mlambda\u001b[0m \u001b[0minputs\u001b[0m\u001b[0;34m,\u001b[0m \u001b[0mparams\u001b[0m\u001b[0;34m:\u001b[0m\u001b[0;31m \u001b[0m\u001b[0;31m\\\u001b[0m\u001b[0;34m\u001b[0m\u001b[0m\n\u001b[1;32m    447\u001b[0m             tuple(oper(x, y) for x, y in zip(f(inputs, params),\n\u001b[0;32m--> 448\u001b[0;31m                                              g(inputs, params)))\n\u001b[0m\u001b[1;32m    449\u001b[0m \u001b[0;34m\u001b[0m\u001b[0m\n\u001b[1;32m    450\u001b[0m \u001b[0;34m\u001b[0m\u001b[0m\n",
      "\u001b[0;32m/Users/nearl/anaconda3/envs/spec_env/lib/python3.6/site-packages/astropy/modeling/core.py\u001b[0m in \u001b[0;36m<lambda>\u001b[0;34m(inputs, params)\u001b[0m\n\u001b[1;32m   2369\u001b[0m             \u001b[0;32mif\u001b[0m \u001b[0mn_outputs\u001b[0m \u001b[0;34m==\u001b[0m \u001b[0;36m1\u001b[0m\u001b[0;34m:\u001b[0m\u001b[0;34m\u001b[0m\u001b[0m\n\u001b[1;32m   2370\u001b[0m                 \u001b[0mf\u001b[0m \u001b[0;34m=\u001b[0m \u001b[0;32mlambda\u001b[0m \u001b[0minputs\u001b[0m\u001b[0;34m,\u001b[0m \u001b[0mparams\u001b[0m\u001b[0;34m:\u001b[0m\u001b[0;31m \u001b[0m\u001b[0;31m\\\u001b[0m\u001b[0;34m\u001b[0m\u001b[0m\n\u001b[0;32m-> 2371\u001b[0;31m                     \u001b[0;34m(\u001b[0m\u001b[0mevaluate\u001b[0m\u001b[0;34m(\u001b[0m\u001b[0;34m*\u001b[0m\u001b[0mchain\u001b[0m\u001b[0;34m(\u001b[0m\u001b[0minputs\u001b[0m\u001b[0;34m,\u001b[0m \u001b[0mislice\u001b[0m\u001b[0;34m(\u001b[0m\u001b[0mparams\u001b[0m\u001b[0;34m,\u001b[0m \u001b[0mn_params\u001b[0m\u001b[0;34m)\u001b[0m\u001b[0;34m)\u001b[0m\u001b[0;34m)\u001b[0m\u001b[0;34m,\u001b[0m\u001b[0;34m)\u001b[0m\u001b[0;34m\u001b[0m\u001b[0m\n\u001b[0m\u001b[1;32m   2372\u001b[0m             \u001b[0;32melse\u001b[0m\u001b[0;34m:\u001b[0m\u001b[0;34m\u001b[0m\u001b[0m\n\u001b[1;32m   2373\u001b[0m                 \u001b[0mf\u001b[0m \u001b[0;34m=\u001b[0m \u001b[0;32mlambda\u001b[0m \u001b[0minputs\u001b[0m\u001b[0;34m,\u001b[0m \u001b[0mparams\u001b[0m\u001b[0;34m:\u001b[0m\u001b[0;31m \u001b[0m\u001b[0;31m\\\u001b[0m\u001b[0;34m\u001b[0m\u001b[0m\n",
      "\u001b[0;32m/Users/nearl/projects/spectacle/spectacle/modeling/models.py\u001b[0m in \u001b[0;36mevaluate\u001b[0;34m(self, x, lambda_0, f_value, gamma, v_doppler, column_density)\u001b[0m\n\u001b[1;32m     27\u001b[0m                              \u001b[0mgamma\u001b[0m\u001b[0;34m=\u001b[0m\u001b[0mgamma\u001b[0m\u001b[0;34m,\u001b[0m \u001b[0mv_doppler\u001b[0m\u001b[0;34m=\u001b[0m\u001b[0mv_doppler\u001b[0m\u001b[0;34m,\u001b[0m\u001b[0;34m\u001b[0m\u001b[0m\n\u001b[1;32m     28\u001b[0m                              \u001b[0mcolumn_density\u001b[0m\u001b[0;34m=\u001b[0m\u001b[0mcolumn_density\u001b[0m\u001b[0;34m,\u001b[0m\u001b[0;34m\u001b[0m\u001b[0m\n\u001b[0;32m---> 29\u001b[0;31m                              \u001b[0mn_lambda\u001b[0m\u001b[0;34m=\u001b[0m\u001b[0mx\u001b[0m\u001b[0;34m.\u001b[0m\u001b[0msize\u001b[0m\u001b[0;34m,\u001b[0m\u001b[0;31m# lambda_bins=lambda_bins\u001b[0m\u001b[0;34m\u001b[0m\u001b[0m\n\u001b[0m\u001b[1;32m     30\u001b[0m                              )\n\u001b[1;32m     31\u001b[0m \u001b[0;34m\u001b[0m\u001b[0m\n",
      "\u001b[0;32m/Users/nearl/projects/spectacle/spectacle/core/profiles.py\u001b[0m in \u001b[0;36m__init__\u001b[0;34m(self, x, lambda_0, f_value, gamma, v_doppler, column_density, delta_v, delta_lambda, lambda_bins, n_lambda, dlambda)\u001b[0m\n\u001b[1;32m     56\u001b[0m         \u001b[0;32mif\u001b[0m \u001b[0mlambda_bins\u001b[0m \u001b[0;32mis\u001b[0m \u001b[0;32mNone\u001b[0m\u001b[0;34m:\u001b[0m\u001b[0;34m\u001b[0m\u001b[0m\n\u001b[1;32m     57\u001b[0m             \u001b[0mlambda_bins\u001b[0m \u001b[0;34m=\u001b[0m \u001b[0mlam1\u001b[0m \u001b[0;34m+\u001b[0m\u001b[0;31m \u001b[0m\u001b[0;31m\\\u001b[0m\u001b[0;34m\u001b[0m\u001b[0m\n\u001b[0;32m---> 58\u001b[0;31m                           \u001b[0mnp\u001b[0m\u001b[0;34m.\u001b[0m\u001b[0marange\u001b[0m\u001b[0;34m(\u001b[0m\u001b[0mn_lambda\u001b[0m\u001b[0;34m,\u001b[0m \u001b[0mdtype\u001b[0m\u001b[0;34m=\u001b[0m\u001b[0mnp\u001b[0m\u001b[0;34m.\u001b[0m\u001b[0mfloat\u001b[0m\u001b[0;34m)\u001b[0m \u001b[0;34m*\u001b[0m \u001b[0mdlambda\u001b[0m \u001b[0;34m-\u001b[0m\u001b[0;31m \u001b[0m\u001b[0;31m\\\u001b[0m\u001b[0;34m\u001b[0m\u001b[0m\n\u001b[0m\u001b[1;32m     59\u001b[0m                           \u001b[0mn_lambda\u001b[0m \u001b[0;34m*\u001b[0m \u001b[0mdlambda\u001b[0m \u001b[0;34m/\u001b[0m \u001b[0;36m2\u001b[0m  \u001b[0;31m# wavelength vector (angstroms)\u001b[0m\u001b[0;34m\u001b[0m\u001b[0m\n\u001b[1;32m     60\u001b[0m \u001b[0;34m\u001b[0m\u001b[0m\n",
      "\u001b[0;32m/Users/nearl/anaconda3/envs/spec_env/lib/python3.6/site-packages/astropy/units/quantity.py\u001b[0m in \u001b[0;36m__array_prepare__\u001b[0;34m(self, obj, context)\u001b[0m\n\u001b[1;32m    421\u001b[0m                                      \u001b[0;34m\"argument is not a quantity (unless the \"\u001b[0m\u001b[0;34m\u001b[0m\u001b[0m\n\u001b[1;32m    422\u001b[0m                                      \u001b[0;34m\"latter is all zero/infinity/nan)\"\u001b[0m\u001b[0;34m\u001b[0m\u001b[0m\n\u001b[0;32m--> 423\u001b[0;31m                                      .format(function.__name__))\n\u001b[0m\u001b[1;32m    424\u001b[0m             \u001b[0;32mexcept\u001b[0m \u001b[0mTypeError\u001b[0m\u001b[0;34m:\u001b[0m\u001b[0;34m\u001b[0m\u001b[0m\n\u001b[1;32m    425\u001b[0m                 \u001b[0;31m# _can_have_arbitrary_unit failed: arg could not be compared\u001b[0m\u001b[0;34m\u001b[0m\u001b[0;34m\u001b[0m\u001b[0m\n",
      "\u001b[0;31mUnitsError\u001b[0m: Can only apply 'add' function to dimensionless quantities when other argument is not a quantity (unless the latter is all zero/infinity/nan)"
     ]
    }
   ],
   "source": [
    "# Define the wavelength range, and then create the spectrum\n",
    "dispersion = np.linspace(1000, 1500, 2000)\n",
    "spectrum = model(dispersion)\n",
    "\n",
    "# The spectrum also contains basic information about where the lines are\n",
    "print(spectrum.lines)\n",
    "\n",
    "# Plot the spectrum\n",
    "f, (ax) = plt.subplots()\n",
    "\n",
    "ax.plot(spectrum.dispersion, spectrum.data)\n",
    "ax.set_xlabel(\"Wavelength (Angstrom)\")\n",
    "ax.set_ylabel(\"Normalized Flux\")\n",
    "\n",
    "plt.show()"
   ]
  },
  {
   "cell_type": "code",
   "execution_count": null,
   "metadata": {
    "collapsed": true
   },
   "outputs": [],
   "source": []
  },
  {
   "cell_type": "markdown",
   "metadata": {
    "collapsed": true
   },
   "source": [
    "## Apply noise to the spectrum"
   ]
  },
  {
   "cell_type": "code",
   "execution_count": null,
   "metadata": {},
   "outputs": [],
   "source": [
    "# New spectrum\n",
    "spectrum = model(dispersion)\n",
    "\n",
    "# Add noise\n",
    "spectrum.add_noise(0.05)\n",
    "\n",
    "# Plot resultant spectrum\n",
    "f, (ax) = plt.subplots()\n",
    "\n",
    "ax.plot(spectrum.dispersion, spectrum.data, drawstyle='steps')\n",
    "ax.set_xlabel(\"Wavelength (Angstrom)\")\n",
    "ax.set_ylabel(\"Normalized Flux\")"
   ]
  },
  {
   "cell_type": "markdown",
   "metadata": {
    "collapsed": true
   },
   "source": [
    "## Apply the COS LSF"
   ]
  },
  {
   "cell_type": "code",
   "execution_count": null,
   "metadata": {},
   "outputs": [],
   "source": [
    "# New spectrum\n",
    "spectrum = model(dispersion)\n",
    "\n",
    "# Add noise\n",
    "spectrum.add_noise(std_dev=0.05)\n",
    "\n",
    "f, (ax) = plt.subplots()\n",
    "\n",
    "# Plot the current, un-convolved spectrum\n",
    "ax.plot(spectrum.dispersion, spectrum.data, drawstyle='steps')\n",
    "\n",
    "# Create and add the LSF to the spectrum object\n",
    "cos_lsf = COSLSF()\n",
    "spectrum.add_lsf(cos_lsf)\n",
    "\n",
    "# Plot the new, convolved spectrum\n",
    "ax.plot(spectrum.dispersion, spectrum.data, drawstyle='steps', color='r', label=\"LSF Applied\")\n",
    "ax.set_xlabel(\"Wavelength (Angstrom)\")\n",
    "ax.set_ylabel(\"Normalized Flux\")\n",
    "\n",
    "plt.legend(loc=0)"
   ]
  },
  {
   "cell_type": "markdown",
   "metadata": {},
   "source": [
    "## Resampling\n",
    "\n",
    "Provide a dispersion with a lower samping and project the spectrum onto this wavelength grid."
   ]
  },
  {
   "cell_type": "code",
   "execution_count": null,
   "metadata": {},
   "outputs": [],
   "source": [
    "# New spectrum\n",
    "spectrum = model(dispersion)\n",
    "\n",
    "# Add noise\n",
    "spectrum.add_noise(std_dev=0.05)\n",
    "\n",
    "f, ax = plt.subplots()\n",
    "\n",
    "ax.step(spectrum.dispersion, spectrum.data)\n",
    "\n",
    "# Resample to lower grid\n",
    "new_spectrum = spectrum.resample(dispersion=np.linspace(dispersion[0], dispersion[-1], 200), copy=True)\n",
    "\n",
    "ax.step(new_spectrum.dispersion[1:-1], new_spectrum.data[1:-1], label=\"Resampled\")\n",
    "plt.legend(loc=0)"
   ]
  },
  {
   "cell_type": "markdown",
   "metadata": {
    "collapsed": true
   },
   "source": [
    "# Velocity space"
   ]
  },
  {
   "cell_type": "code",
   "execution_count": null,
   "metadata": {},
   "outputs": [],
   "source": [
    "# New spectrum\n",
    "spectrum = model(dispersion)\n",
    "\n",
    "# Add noise\n",
    "spectrum.add_noise(std_dev=0.05)\n",
    "\n",
    "f, (ax1, ax2) = plt.subplots(2, 1)\n",
    "\n",
    "ax1.plot(spectrum.dispersion, spectrum.data)\n",
    "ax2.plot(spectrum.velocity(1.23882100E+03), spectrum.data)\n",
    "\n",
    "ax1.set_ylabel(\"Normalized Flux\")\n",
    "ax1.set_xlabel(\"Wavelength (Angstrom)\")\n",
    "ax2.set_xlabel(\"Velocity (km/s)\")\n",
    "\n",
    "plt.tight_layout()"
   ]
  },
  {
   "cell_type": "code",
   "execution_count": null,
   "metadata": {},
   "outputs": [],
   "source": [
    "# New spectrum\n",
    "spectrum = model(dispersion)\n",
    "\n",
    "# Add noise\n",
    "spectrum.add_noise(0.05)\n",
    "\n",
    "# Plot resultant spectrum\n",
    "f, (ax1, ax2, ax3) = plt.subplots(3, 1, sharex=True)\n",
    "\n",
    "ax1.plot(spectrum.dispersion, spectrum.data, drawstyle='steps')\n",
    "ax3.set_xlabel(\"Wavelength (Angstrom)\")\n",
    "ax2.set_ylabel(\"Normalized Flux\")\n",
    "\n",
    "# New spectrum\n",
    "spectrum = model(dispersion)\n",
    "\n",
    "# Add noise\n",
    "spectrum.add_noise(std_dev=0.05)\n",
    "\n",
    "# Plot the current, un-convolved spectrum\n",
    "ax2.plot(spectrum.dispersion, spectrum.data, drawstyle='steps')\n",
    "\n",
    "# Create and add the LSF to the spectrum object\n",
    "cos_lsf = COSLSF()\n",
    "spectrum.add_lsf(cos_lsf)\n",
    "\n",
    "# Plot the new, convolved spectrum\n",
    "ax2.plot(spectrum.dispersion, spectrum.data, drawstyle='steps', color='r', label=\"LSF Applied\")\n",
    "ax2.legend(loc=0)\n",
    "# New spectrum\n",
    "spectrum = model(dispersion)\n",
    "\n",
    "# Add noise\n",
    "spectrum.add_noise(std_dev=0.05)\n",
    "\n",
    "ax3.step(spectrum.dispersion, spectrum.data)\n",
    "\n",
    "# Resample to lower grid\n",
    "new_spectrum = spectrum.resample(dispersion=np.linspace(dispersion[0], dispersion[-1], 200), copy=True)\n",
    "\n",
    "ax3.step(new_spectrum.dispersion[1:-1], new_spectrum.data[1:-1], label=\"Resampled\")\n",
    "ax3.legend(loc=0)\n",
    "\n",
    "plt.xlim(1150, 1275)"
   ]
  },
  {
   "cell_type": "code",
   "execution_count": null,
   "metadata": {
    "collapsed": true
   },
   "outputs": [],
   "source": []
  }
 ],
 "metadata": {
  "anaconda-cloud": {},
  "kernelspec": {
   "display_name": "Python 3",
   "language": "python",
   "name": "python3"
  },
  "language_info": {
   "codemirror_mode": {
    "name": "ipython",
    "version": 3
   },
   "file_extension": ".py",
   "mimetype": "text/x-python",
   "name": "python",
   "nbconvert_exporter": "python",
   "pygments_lexer": "ipython3",
   "version": "3.6.1"
  }
 },
 "nbformat": 4,
 "nbformat_minor": 1
}
