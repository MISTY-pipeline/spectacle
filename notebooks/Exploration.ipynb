{
 "cells": [
  {
   "cell_type": "code",
   "execution_count": 1,
   "metadata": {
    "collapsed": false
   },
   "outputs": [
    {
     "ename": "ImportError",
     "evalue": "No module named 'spectacle.spectra'",
     "output_type": "error",
     "traceback": [
      "\u001b[0;31m---------------------------------------------------------------------------\u001b[0m",
      "\u001b[0;31mImportError\u001b[0m                               Traceback (most recent call last)",
      "\u001b[0;32m<ipython-input-1-11d1e6f550fe>\u001b[0m in \u001b[0;36m<module>\u001b[0;34m()\u001b[0m\n\u001b[0;32m----> 1\u001b[0;31m \u001b[0;32mfrom\u001b[0m \u001b[0mspectacle\u001b[0m\u001b[0;34m.\u001b[0m\u001b[0mspectra\u001b[0m \u001b[0;32mimport\u001b[0m \u001b[0mSpectrum1D\u001b[0m\u001b[0;34m\u001b[0m\u001b[0m\n\u001b[0m\u001b[1;32m      2\u001b[0m \u001b[0;32mimport\u001b[0m \u001b[0mmatplotlib\u001b[0m\u001b[0;34m.\u001b[0m\u001b[0mpyplot\u001b[0m \u001b[0;32mas\u001b[0m \u001b[0mplt\u001b[0m\u001b[0;34m\u001b[0m\u001b[0m\n\u001b[1;32m      3\u001b[0m \u001b[0;32mimport\u001b[0m \u001b[0mnumpy\u001b[0m \u001b[0;32mas\u001b[0m \u001b[0mnp\u001b[0m\u001b[0;34m\u001b[0m\u001b[0m\n",
      "\u001b[0;31mImportError\u001b[0m: No module named 'spectacle.spectra'"
     ]
    }
   ],
   "source": [
    "from spectacle.spectra import Spectrum1D\n",
    "import matplotlib.pyplot as plt\n",
    "import numpy as np"
   ]
  },
  {
   "cell_type": "code",
   "execution_count": null,
   "metadata": {
    "collapsed": true
   },
   "outputs": [],
   "source": [
    "%matplotlib notebook"
   ]
  },
  {
   "cell_type": "markdown",
   "metadata": {},
   "source": [
    "# Basic absorption features"
   ]
  },
  {
   "cell_type": "code",
   "execution_count": null,
   "metadata": {
    "collapsed": false
   },
   "outputs": [],
   "source": [
    "spectrum1 = Spectrum1D()\n",
    "spectrum1.add_line(lambda_0=1.03192700E+03, f_value=0.4164, gamma=1e6,\n",
    "                   v_doppler=1e7, column_density=10**14.66)\n",
    "\n",
    "plt.plot(spectrum1.dispersion, spectrum1.flux)"
   ]
  },
  {
   "cell_type": "markdown",
   "metadata": {},
   "source": [
    "# Curve of growth analysis"
   ]
  },
  {
   "cell_type": "code",
   "execution_count": null,
   "metadata": {
    "collapsed": false
   },
   "outputs": [],
   "source": [
    "f, (ax1, ax2) = plt.subplots(2, 1)\n",
    "\n",
    "log_n, log_w = [], []\n",
    "\n",
    "for n in np.logspace(12, 22, 20):\n",
    "    # Create spectrum\n",
    "    spectrum2 = Spectrum1D()\n",
    "    lam = 1.21567010E+03\n",
    "    spectrum2.add_line(lambda_0=lam, f_value=0.4164, gamma=1e5,\n",
    "                       v_doppler=1e6, column_density=n)\n",
    "    \n",
    "    # Append values to lists\n",
    "    log_n.append(np.log10(n * 0.4164 * (lam)))\n",
    "    log_w.append(np.log10(spectrum2.equivalent_width(lam)))\n",
    "    \n",
    "    # Plot\n",
    "    ax1.plot(spectrum2.dispersion, spectrum2.flux, 'g-')\n",
    "\n",
    "ax1.set_xlabel(\"Wavelength ($\\lambda$)\")\n",
    "ax1.set_ylabel(\"Normalized Flux\")\n",
    "    \n",
    "ax2.plot(log_n, log_w)\n",
    "ax2.set_xlabel(\"$\\log N f \\lambda$\")\n",
    "ax2.set_ylabel(\"$\\log W / \\lambda$\")\n",
    "\n",
    "# plt.plot(spectrum1.dispersion, spectrum1.flux)\n",
    "plt.show()"
   ]
  },
  {
   "cell_type": "markdown",
   "metadata": {},
   "source": [
    "# Parameter behavior analysis"
   ]
  },
  {
   "cell_type": "code",
   "execution_count": null,
   "metadata": {
    "collapsed": false
   },
   "outputs": [],
   "source": [
    "f, (ax1, ax2, ax3) = plt.subplots(3, 1)\n",
    "\n",
    "for gamma in np.logspace(12, 14, 10):\n",
    "    spectrum2 = Spectrum1D()\n",
    "    spectrum2.add_line(lambda_0=1.03192700E+03, f_value=0.4164, gamma=gamma,\n",
    "                       v_doppler=1e7, column_density=5.25e13)\n",
    "    mask = (spectrum2.dispersion > 1025) & (spectrum2.dispersion < 1040)\n",
    "    ax1.plot(spectrum2.dispersion[mask], spectrum2.flux[mask], 'b-')\n",
    "\n",
    "for n in np.logspace(12, 18, 10):\n",
    "    spectrum2 = Spectrum1D()\n",
    "    spectrum2.add_line(lambda_0=1.03192700E+03, f_value=0.4164,\n",
    "                       gamma=1e6, v_doppler=1e7, column_density=n)\n",
    "    mask = (spectrum2.dispersion > 1025) & (spectrum2.dispersion < 1040)\n",
    "    ax2.plot(spectrum2.dispersion[mask], spectrum2.flux[mask], 'r-')\n",
    "\n",
    "\n",
    "for f in np.linspace(0.1, 1.0, 10):\n",
    "    spectrum2 = Spectrum1D()\n",
    "    spectrum2.add_line(lambda_0=1.03192700E+03, f_value=f, gamma=1e6,\n",
    "                       v_doppler=1e7, column_density=5.25e13)\n",
    "    mask = (spectrum2.dispersion > 1025) & (spectrum2.dispersion < 1040)\n",
    "    ax3.plot(spectrum2.dispersion[mask], spectrum2.flux[mask], 'g-')\n",
    "    \n",
    "plt.show()"
   ]
  },
  {
   "cell_type": "code",
   "execution_count": null,
   "metadata": {
    "collapsed": true
   },
   "outputs": [],
   "source": []
  }
 ],
 "metadata": {
  "kernelspec": {
   "display_name": "Python 3",
   "language": "python",
   "name": "python3"
  },
  "language_info": {
   "codemirror_mode": {
    "name": "ipython",
    "version": 3
   },
   "file_extension": ".py",
   "mimetype": "text/x-python",
   "name": "python",
   "nbconvert_exporter": "python",
   "pygments_lexer": "ipython3",
   "version": "3.5.2"
  }
 },
 "nbformat": 4,
 "nbformat_minor": 0
}
