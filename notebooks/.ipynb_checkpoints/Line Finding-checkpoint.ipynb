{
 "cells": [
  {
   "cell_type": "code",
   "execution_count": 1,
   "metadata": {},
   "outputs": [],
   "source": [
    "from astropy.modeling import models, Fittable1DModel, Parameter\n",
    "from astropy.modeling.fitting import LevMarLSQFitter\n",
    "import astropy.units as u\n",
    "import astropy.constants as const\n",
    "\n",
    "from spectacle.core.spectrum import Spectrum1D\n",
    "from spectacle.modeling.custom import Masker\n",
    "from spectacle.analysis.line_finder import LineFinder\n",
    "from spectacle.io.registries import line_registry\n",
    "\n",
    "import numpy as np\n",
    "import matplotlib.pyplot as plt\n",
    "\n",
    "%matplotlib notebook"
   ]
  },
  {
   "cell_type": "code",
   "execution_count": 2,
   "metadata": {},
   "outputs": [],
   "source": [
    "wavelength = np.linspace(1200, 1235, 1000) * u.Angstrom\n",
    "velocity = np.linspace(-800, 800, 1000) * u.Unit(\"km/s\")"
   ]
  },
  {
   "cell_type": "code",
   "execution_count": 26,
   "metadata": {},
   "outputs": [
    {
     "name": "stderr",
     "output_type": "stream",
     "text": [
      "INFO:root:Found line with name 'HI1216' from given name 'hi1215'.\n",
      "INFO:root:Default continuum set to a Linear1D model.\n"
     ]
    }
   ],
   "source": [
    "spectrum = Spectrum1D(ion='hi1215', redshift=0.0)\n",
    "# spectrum.add_line(v_doppler=1.1e7 * u.Unit('cm/s'))\n",
    "# spectrum.add_line(v_doppler=1.4e7 * u.Unit('cm/s'), delta_v=2900 * u.Unit('cm/s'))\n",
    "\n",
    "y = spectrum.optical_depth(wavelength)"
   ]
  },
  {
   "cell_type": "code",
   "execution_count": 29,
   "metadata": {},
   "outputs": [
    {
     "data": {
      "text/plain": [
       "[<matplotlib.lines.Line2D at 0x7f9ee96569b0>]"
      ]
     },
     "execution_count": 29,
     "metadata": {},
     "output_type": "execute_result"
    },
    {
     "data": {
      "image/png": "[encoded data removed]",
      "text/plain": [
       "<matplotlib.figure.Figure at 0x7f9ee9656d30>"
      ]
     },
     "metadata": {},
     "output_type": "display_data"
    }
   ],
   "source": [
    "f, ax = plt.subplots()\n",
    "\n",
    "ax.plot(velocity, y)"
   ]
  },
  {
   "cell_type": "code",
   "execution_count": 11,
   "metadata": {},
   "outputs": [
    {
     "name": "stderr",
     "output_type": "stream",
     "text": [
      "INFO:root:Default continuum set to a Linear1D model.\n"
     ]
    },
    {
     "name": "stdout",
     "output_type": "stream",
     "text": [
      "1215.6701 Angstrom\n",
      "Found 1 lines.\n",
      "Found line at 454.8943490013018 km / s (1215.6701 Angstrom with shift of 454.8943490013018 km / s).\n",
      "[('x_0', 449.77852496145715), ('amplitude_L', 1.9496276541956354), ('fwhm_L', 47.603416740122157), ('fwhm_G', 1070.9273145683244)]\n",
      "1.91944692768 3.89925530839\n",
      "Parameter('v_doppler', value=26829937.40285542, unit=cm / s, bounds=(0, None))\n"
     ]
    },
    {
     "name": "stderr",
     "output_type": "stream",
     "text": [
      "/home/nmearl/miniconda3/envs/spec_env/lib/python3.6/site-packages/astropy/units/quantity.py:641: RuntimeWarning: divide by zero encountered in true_divide\n",
      "  *arrays, **kwargs)\n",
      "/home/nmearl/codes/spectacle/spectacle/modeling/profiles.py:154: RuntimeWarning: invalid value encountered in multiply\n",
      "  return special.wofz(x + 1j * y).real\n",
      "INFO:root:Default continuum set to a Linear1D model.\n"
     ]
    },
    {
     "name": "stdout",
     "output_type": "stream",
     "text": [
      "1215.6701 Angstrom\n",
      "Found 1 lines.\n",
      "Found line at 454.8943490013018 km / s (1215.6701 Angstrom with shift of 454.8943490013018 km / s).\n",
      "[('x_0', 449.77852496145715), ('amplitude_L', 1.9496276541956354), ('fwhm_L', 47.603416740122157), ('fwhm_G', 1070.9273145683244)]\n",
      "1.91944692768 3.89925530839\n",
      "Parameter('v_doppler', value=26829937.40285542, unit=cm / s, bounds=(0, None))\n"
     ]
    },
    {
     "name": "stderr",
     "output_type": "stream",
     "text": [
      "INFO:root:Default continuum set to a Linear1D model.\n"
     ]
    },
    {
     "name": "stdout",
     "output_type": "stream",
     "text": [
      "1215.6701 Angstrom\n",
      "Found 1 lines.\n",
      "Found line at 454.8943490013018 km / s (1215.6701 Angstrom with shift of 454.8943490013018 km / s).\n",
      "[('x_0', 449.77852496145715), ('amplitude_L', 1.9496276541956354), ('fwhm_L', 47.603416740122157), ('fwhm_G', 1070.9273145683244)]\n",
      "1.91944692768 3.89925530839\n",
      "Parameter('v_doppler', value=26829937.40285542, unit=cm / s, bounds=(0, None))\n"
     ]
    },
    {
     "name": "stderr",
     "output_type": "stream",
     "text": [
      "INFO:root:Default continuum set to a Linear1D model.\n"
     ]
    },
    {
     "name": "stdout",
     "output_type": "stream",
     "text": [
      "1215.6701 Angstrom\n",
      "Found 1 lines.\n",
      "Found line at 454.8943490013018 km / s (1215.6701 Angstrom with shift of 454.8943490013018 km / s).\n",
      "[('x_0', 449.77852496145715), ('amplitude_L', 1.9496276541956354), ('fwhm_L', 47.603416740122157), ('fwhm_G', 1070.9273145683244)]\n",
      "1.91944692768 3.89925530839\n",
      "Parameter('v_doppler', value=26829937.40285542, unit=cm / s, bounds=(0, None))\n"
     ]
    },
    {
     "name": "stderr",
     "output_type": "stream",
     "text": [
      "INFO:root:Default continuum set to a Linear1D model.\n"
     ]
    },
    {
     "name": "stdout",
     "output_type": "stream",
     "text": [
      "1215.6701 Angstrom\n",
      "Found 1 lines.\n",
      "Found line at 454.8943490013018 km / s (1215.6701 Angstrom with shift of 454.8943490013018 km / s).\n",
      "[('x_0', 449.77852496145715), ('amplitude_L', 1.9496276541956354), ('fwhm_L', 47.603416740122157), ('fwhm_G', 1070.9273145683244)]\n",
      "1.91944692768 3.89925530839\n",
      "Parameter('v_doppler', value=26829937.40285542, unit=cm / s, bounds=(0, None))\n"
     ]
    }
   ],
   "source": [
    "finder_model = LineFinder(center=spectrum.center, z=spectrum.redshift)\n",
    "\n",
    "fitter = LevMarLSQFitter()\n",
    "fit_finder_model = fitter(finder_model, wavelength, y, y)"
   ]
  },
  {
   "cell_type": "code",
   "execution_count": 12,
   "metadata": {},
   "outputs": [
    {
     "name": "stdout",
     "output_type": "stream",
     "text": [
      "Model: BaseSpectrumModel\n",
      "Name: OpticalDepth\n",
      "Inputs: ('x',)\n",
      "Outputs: ('y',)\n",
      "Model set size: 1\n",
      "Expression: [0] | [1] | [2] | [3]\n",
      "Components: \n",
      "    [0]: <DispersionConvert(center=1215.6701 Angstrom)>\n",
      "\n",
      "    [1]: <Redshift(z=0.0)>\n",
      "\n",
      "    [2]: <TauProfile(lambda_0=1215.6701 Angstrom, f_value=0.4164, gamma=626500000.0, v_doppler=26829937.40285542 cm / s, column_density=10000000000000.0 1 / cm2, delta_v=454.8943490013018 km / s, delta_lambda=0.0 Angstrom, name='HI1216')>\n",
      "\n",
      "    [3]: <SmartScale(factor=1.0)>\n",
      "Parameters:\n",
      "     center_0 z_1 lambda_0_2 f_value_2 ...   delta_v_2   delta_lambda_2 factor_3\n",
      "     Angstrom      Angstrom            ...     km / s       Angstrom            \n",
      "    --------- --- ---------- --------- ... ------------- -------------- --------\n",
      "    1215.6701 0.0  1215.6701    0.4164 ... 448.687858478            0.0      1.0\n"
     ]
    },
    {
     "data": {
      "text/plain": [
       "[<matplotlib.lines.Line2D at 0x7f9ee92c8208>]"
      ]
     },
     "execution_count": 12,
     "metadata": {},
     "output_type": "execute_result"
    },
    {
     "data": {
      "image/png": "[encoded data removed]",
      "text/plain": [
       "<matplotlib.figure.Figure at 0x7f9ee9514ac8>"
      ]
     },
     "metadata": {},
     "output_type": "display_data"
    }
   ],
   "source": [
    "print(fit_finder_model.result_model)\n",
    "\n",
    "f, ax = plt.subplots()\n",
    "\n",
    "ax.plot(velocity, spectrum.optical_depth(velocity))\n",
    "ax.plot(velocity, fit_finder_model.result_model(velocity))"
   ]
  },
  {
   "cell_type": "code",
   "execution_count": null,
   "metadata": {},
   "outputs": [],
   "source": []
  },
  {
   "cell_type": "code",
   "execution_count": null,
   "metadata": {},
   "outputs": [],
   "source": []
  }
 ],
 "metadata": {
  "kernelspec": {
   "display_name": "Python 3",
   "language": "python",
   "name": "python3"
  },
  "language_info": {
   "codemirror_mode": {
    "name": "ipython",
    "version": 3
   },
   "file_extension": ".py",
   "mimetype": "text/x-python",
   "name": "python",
   "nbconvert_exporter": "python",
   "pygments_lexer": "ipython3",
   "version": "3.6.3"
  }
 },
 "nbformat": 4,
 "nbformat_minor": 2
}
