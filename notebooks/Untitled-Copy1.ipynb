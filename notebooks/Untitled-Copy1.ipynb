{
 "cells": [
  {
   "cell_type": "code",
   "execution_count": 1,
   "metadata": {},
   "outputs": [],
   "source": [
    "from astropy.modeling import models, Fittable1DModel, Parameter\n",
    "from astropy.modeling import fitting\n",
    "import astropy.units as u\n",
    "import astropy.constants as const\n",
    "\n",
    "from spectacle.spectrum import SpectrumModel\n",
    "from spectacle.registries import line_registry\n",
    "\n",
    "import numpy as np\n",
    "import matplotlib.pyplot as plt"
   ]
  },
  {
   "cell_type": "code",
   "execution_count": 2,
   "metadata": {
    "collapsed": true
   },
   "outputs": [],
   "source": [
    "%matplotlib notebook\n",
    "# plt.rcParams[\"figure.figsize\"] = [8, 16]\n",
    "# plt.rcParams[\"figure.dpi\"] = 80"
   ]
  },
  {
   "cell_type": "markdown",
   "metadata": {},
   "source": [
    "## Control Spectrum\n",
    "\n",
    "This spectrum acts as the standard to which the dynamic spectrum will be compared in the correlation metrics."
   ]
  },
  {
   "cell_type": "code",
   "execution_count": 3,
   "metadata": {
    "collapsed": true
   },
   "outputs": [],
   "source": [
    "import astropy.units as u\n",
    "\n",
    "# velocity = np.linspace(1210, 1220, 1001) * u.Angstrom\n",
    "velocity = np.linspace(-800, 800, 201) * u.Unit(\"km/s\")"
   ]
  },
  {
   "cell_type": "code",
   "execution_count": 4,
   "metadata": {},
   "outputs": [
    {
     "name": "stdout",
     "output_type": "stream",
     "text": [
      "None\n"
     ]
    },
    {
     "ename": "TypeError",
     "evalue": "'NoneType' object is not subscriptable",
     "output_type": "error",
     "traceback": [
      "\u001b[0;31m---------------------------------------------------------------------------\u001b[0m",
      "\u001b[0;31mTypeError\u001b[0m                                 Traceback (most recent call last)",
      "\u001b[0;32m<ipython-input-4-35d25849bbd8>\u001b[0m in \u001b[0;36m<module>\u001b[0;34m()\u001b[0m\n\u001b[1;32m      7\u001b[0m \u001b[0mprint\u001b[0m\u001b[0;34m(\u001b[0m\u001b[0mline\u001b[0m\u001b[0;34m)\u001b[0m\u001b[0;34m\u001b[0m\u001b[0m\n\u001b[1;32m      8\u001b[0m \u001b[0;34m\u001b[0m\u001b[0m\n\u001b[0;32m----> 9\u001b[0;31m \u001b[0mspectrum\u001b[0m \u001b[0;34m=\u001b[0m \u001b[0mSpectrumModel\u001b[0m\u001b[0;34m(\u001b[0m\u001b[0mcenter\u001b[0m\u001b[0;34m=\u001b[0m\u001b[0mline\u001b[0m\u001b[0;34m[\u001b[0m\u001b[0;34m'lambda_0'\u001b[0m\u001b[0;34m]\u001b[0m\u001b[0;34m)\u001b[0m\u001b[0;34m.\u001b[0m\u001b[0madd_line\u001b[0m\u001b[0;34m(\u001b[0m\u001b[0;34m**\u001b[0m\u001b[0mline\u001b[0m\u001b[0;34m)\u001b[0m\u001b[0;34m\u001b[0m\u001b[0m\n\u001b[0m\u001b[1;32m     10\u001b[0m \u001b[0;34m\u001b[0m\u001b[0m\n\u001b[1;32m     11\u001b[0m \u001b[0mvoigt\u001b[0m \u001b[0;34m=\u001b[0m \u001b[0mVoigt1D\u001b[0m\u001b[0;34m(\u001b[0m\u001b[0mx_0\u001b[0m\u001b[0;34m=\u001b[0m\u001b[0;36m0.0001\u001b[0m\u001b[0;34m,\u001b[0m \u001b[0mamplitude_L\u001b[0m\u001b[0;34m=\u001b[0m\u001b[0;36m0.17\u001b[0m\u001b[0;34m,\u001b[0m \u001b[0mfwhm_G\u001b[0m\u001b[0;34m=\u001b[0m\u001b[0;36m40\u001b[0m\u001b[0;34m,\u001b[0m \u001b[0mfwhm_L\u001b[0m\u001b[0;34m=\u001b[0m\u001b[0;36m8\u001b[0m\u001b[0;34m)\u001b[0m\u001b[0;34m\u001b[0m\u001b[0m\n",
      "\u001b[0;31mTypeError\u001b[0m: 'NoneType' object is not subscriptable"
     ]
    }
   ],
   "source": [
    "from spectacle.models import TauProfile\n",
    "from astropy.modeling.models import Voigt1D\n",
    "from astropy.modeling.fitting import LevMarLSQFitter\n",
    "\n",
    "line = line_registry.with_name('HI1216')\n",
    "\n",
    "print(line)\n",
    "\n",
    "spectrum = SpectrumModel(center=line['lambda_0']).add_line(**line)\n",
    "\n",
    "voigt = Voigt1D(x_0=0.0001, amplitude_L=0.17, fwhm_G=40, fwhm_L=8)\n",
    "\n",
    "fitter = LevMarLSQFitter()\n",
    "print(spectrum.flux)\n",
    "\n",
    "new_voigt = fitter(voigt, velocity, spectrum.flux(velocity))\n",
    "\n",
    "f, ax = plt.subplots()\n",
    "\n",
    "ax.plot(velocity, spectrum.flux(velocity))\n",
    "# ax.scatter(velocity, voigt(velocity.value))\n",
    "\n",
    "print(new_voigt)\n",
    "# ax.plot(velocity, new_voigt(velocity))\n",
    "\n",
    "\n",
    "\n",
    "# fwhm = line.fwhm(velocity, velocity=True)\n",
    "# print(fwhm)\n",
    "\n",
    "# ax.axvline(line['lambda_0']-fwhm*0.5)\n",
    "# ax.axvline(line['lambda_0']+fwhm*0.5)\n",
    "\n",
    "# ax.axvline(line['lambda_0']-fwhm)\n",
    "# ax.axvline(line['lambda_0']+fwhm)\n",
    "\n",
    "# mask = spectrum.line_mask(velocity)\n",
    "# ax.scatter(velocity[mask], spectrum.tau.velocity_space(velocity, center=line['lambda_0'])[mask])\n",
    "\n",
    "# # print(line.dv90(wavelength))"
   ]
  },
  {
   "cell_type": "code",
   "execution_count": null,
   "metadata": {
    "collapsed": true
   },
   "outputs": [],
   "source": []
  },
  {
   "cell_type": "code",
   "execution_count": null,
   "metadata": {
    "collapsed": true
   },
   "outputs": [],
   "source": []
  }
 ],
 "metadata": {
  "kernelspec": {
   "display_name": "Python 3",
   "language": "python",
   "name": "python3"
  },
  "language_info": {
   "codemirror_mode": {
    "name": "ipython",
    "version": 3
   },
   "file_extension": ".py",
   "mimetype": "text/x-python",
   "name": "python",
   "nbconvert_exporter": "python",
   "pygments_lexer": "ipython3",
   "version": "3.6.2"
  }
 },
 "nbformat": 4,
 "nbformat_minor": 2
}
