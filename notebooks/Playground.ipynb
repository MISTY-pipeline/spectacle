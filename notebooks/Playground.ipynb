{
 "cells": [
  {
   "cell_type": "code",
   "execution_count": 9,
   "metadata": {},
   "outputs": [],
   "source": [
    "import numpy as np\n",
    "import astropy.units as u\n",
    "\n",
    "from numpy.lib.recfunctions import append_fields\n",
    "\n",
    "from spectacle import SpectrumND"
   ]
  },
  {
   "cell_type": "code",
   "execution_count": 13,
   "metadata": {},
   "outputs": [],
   "source": [
    "ndspec = SpectrumND([np.arange(10), np.random.sample(10), np.random.sample(10) * 0.1], \n",
    "                    names=['y0', 'y1', 'y3'], units=['m', 'Jy', 'Jy'])"
   ]
  },
  {
   "cell_type": "code",
   "execution_count": 14,
   "metadata": {},
   "outputs": [
    {
     "data": {
      "text/latex": [
       "$[0.76959419,~0.66702445,~0.71557604] \\; \\mathrm{Jy}$"
      ],
      "text/plain": [
       "<Quantity [ 0.76959419, 0.66702445, 0.71557604] Jy>"
      ]
     },
     "execution_count": 14,
     "metadata": {},
     "output_type": "execute_result"
    }
   ],
   "source": [
    "ndspec[1:4]['y0']"
   ]
  },
  {
   "cell_type": "code",
   "execution_count": 4,
   "metadata": {},
   "outputs": [],
   "source": [
    "ndspec = ndspec.append('y4', np.arange(10) * 100 * u.m)"
   ]
  },
  {
   "cell_type": "code",
   "execution_count": 5,
   "metadata": {},
   "outputs": [
    {
     "data": {
      "text/latex": [
       "$[0,~100,~200,~300,~400,~500,~600,~700,~800,~900] \\; \\mathrm{m}$"
      ],
      "text/plain": [
       "<Quantity [   0., 100., 200., 300., 400., 500., 600., 700., 800., 900.] m>"
      ]
     },
     "execution_count": 5,
     "metadata": {},
     "output_type": "execute_result"
    }
   ],
   "source": [
    "ndspec['y4']"
   ]
  },
  {
   "cell_type": "code",
   "execution_count": 6,
   "metadata": {},
   "outputs": [],
   "source": [
    "ndspec.convert('disp', u.cm)"
   ]
  },
  {
   "cell_type": "code",
   "execution_count": 8,
   "metadata": {},
   "outputs": [
    {
     "data": {
      "text/latex": [
       "$[0,~10000,~20000,~30000,~40000,~50000,~60000,~70000,~80000,~90000] \\; \\mathrm{cm}$"
      ],
      "text/plain": [
       "<Quantity [     0., 10000., 20000., 30000., 40000., 50000., 60000.,\n",
       "            70000., 80000., 90000.] cm>"
      ]
     },
     "execution_count": 8,
     "metadata": {},
     "output_type": "execute_result"
    }
   ],
   "source": [
    "ndspec['disp']"
   ]
  },
  {
   "cell_type": "code",
   "execution_count": null,
   "metadata": {},
   "outputs": [],
   "source": []
  }
 ],
 "metadata": {
  "kernelspec": {
   "display_name": "Python 3",
   "language": "python",
   "name": "python3"
  },
  "language_info": {
   "codemirror_mode": {
    "name": "ipython",
    "version": 3
   },
   "file_extension": ".py",
   "mimetype": "text/x-python",
   "name": "python",
   "nbconvert_exporter": "python",
   "pygments_lexer": "ipython3",
   "version": "3.6.3"
  }
 },
 "nbformat": 4,
 "nbformat_minor": 2
}
