{
 "cells": [
  {
   "cell_type": "code",
   "execution_count": 11,
   "metadata": {},
   "outputs": [],
   "source": [
    "from astropy.modeling import models, Fittable1DModel, Parameter\n",
    "from astropy.modeling import fitting\n",
    "import astropy.units as u\n",
    "import astropy.constants as const\n",
    "\n",
    "from spectacle.core.spectrum import Spectrum1D\n",
    "from spectacle.models.custom import Masker\n",
    "\n",
    "import numpy as np\n",
    "import matplotlib.pyplot as plt\n",
    "from matplotlib.gridspec import GridSpec\n",
    "\n",
    "import seaborn as sns"
   ]
  },
  {
   "cell_type": "code",
   "execution_count": 8,
   "metadata": {
    "collapsed": true
   },
   "outputs": [],
   "source": [
    "%matplotlib notebook\n",
    "plt.rcParams[\"figure.figsize\"] = [6, 8]\n",
    "# plt.rcParams[\"figure.dpi\"] = 80"
   ]
  },
  {
   "cell_type": "markdown",
   "metadata": {},
   "source": [
    "# Cropping Absorption Features"
   ]
  },
  {
   "cell_type": "code",
   "execution_count": null,
   "metadata": {
    "collapsed": true
   },
   "outputs": [],
   "source": [
    "# Define the dispersion\n",
    "wavelength = np.linspace(1210, 1250, 1001) * u.Angstrom\n",
    "velocity = np.linspace(-800, 800, 1000) * u.Unit(\"km/s\")\n",
    "\n",
    "def make_cdf(arr, hist=True):\n",
    "    if hist:\n",
    "        hist, bin_edges = np.histogram(arr, bins=10000, density=True)\n",
    "        dx = bin_edges[1] - bin_edges[0]\n",
    "\n",
    "        return bin_edges[1:], np.cumsum(hist) * dx\n",
    "\n",
    "    x = np.sort(arr)\n",
    "    y = np.arange(arr.size)/arr.size\n",
    "    \n",
    "    return x, y\n",
    "\n",
    "# Create the first spectrum with a single line\n",
    "line1 = dict(name=\"HI1216\", v_doppler=1e6 * u.Unit('cm/s'), \n",
    "             column_density=1e13 * u.Unit('1/cm2'))\n",
    "\n",
    "spectrum1 = Spectrum1D(center=1216).add_line(**line1)\n",
    "\n",
    "# Create flux and tau profiles with masks\n",
    "x1_t, y1_t = Masker()(velocity[:-1], spectrum1.tau(velocity[:-1]))\n",
    "x1_f, y1_f = Masker(continuum=np.ones(velocity.shape))(velocity, spectrum1.flux(velocity))\n",
    "\n",
    "# Create the second spectrum with a single line\n",
    "line2 = dict(name=\"HI1216\", v_doppler=1e7 * u.Unit('cm/s'), \n",
    "             column_density=1e13 * u.Unit('1/cm2'), \n",
    "             delta_v=50000000 * u.Unit('cm/s'))\n",
    "\n",
    "spectrum2 = Spectrum1D(center=1216).add_line(**line2)\n",
    "\n",
    "# Create flux and tau profiles with masks\n",
    "x2_t, y2_t = Masker()(velocity, spectrum2.tau(velocity))\n",
    "x2_f, y2_f = Masker(continuum=np.ones(velocity.shape))(velocity, spectrum2.flux(velocity))\n",
    "\n",
    "# Create CDFs for tau spectrum\n",
    "tx1, ty1 = make_cdf(y1_t, hist=False)\n",
    "tx2, ty2 = make_cdf(y2_t, hist=False)\n",
    "\n",
    "# Create CDFs for flux spectrum\n",
    "x1, y1 = make_cdf(y1_f, hist=False)\n",
    "x2, y2 = make_cdf(y2_f, hist=False)"
   ]
  },
  {
   "cell_type": "code",
   "execution_count": null,
   "metadata": {},
   "outputs": [],
   "source": [
    "# Generate plots\n",
    "f, ((ax1, ax2), (ax3, ax4)) = plt.subplots(2, 2)\n",
    "# f.set_size_inches(16, 8)\n",
    "\n",
    "ax1.scatter(x1_t, y1_t)\n",
    "ax1.scatter(x2_t, y2_t)\n",
    "\n",
    "ax2.plot(y1_f)\n",
    "ax2.plot(y2_f)\n",
    "\n",
    "ax1.set_xlabel(\"Wavelength\")\n",
    "ax1.set_ylabel(\"Normalized Flux\")\n",
    "\n",
    "ax2.set_xlabel(\"x\")\n",
    "ax2.set_ylabel(\"Normalized Flux\")\n",
    "ax2.set_title(\"How Correlation Functions See Data\")\n",
    "\n",
    "ax3.plot(tx1, ty1)\n",
    "ax3.plot(tx2, ty2)\n",
    "\n",
    "ax3.set_xlabel(\"$\\log x$\")\n",
    "ax3.set_ylabel(\"CDF using Tau\")\n",
    "\n",
    "ax4.plot(x1, y1)\n",
    "ax4.plot(x2, y2)\n",
    "\n",
    "ax4.set_xlabel(\"$\\log x$\")\n",
    "ax4.set_ylabel(\"CDF using Flux\")"
   ]
  },
  {
   "cell_type": "markdown",
   "metadata": {},
   "source": [
    "## Control Spectrum\n",
    "\n",
    "This spectrum acts as the standard to which the dynamic spectrum will be compared in the correlation metrics."
   ]
  },
  {
   "cell_type": "code",
   "execution_count": 3,
   "metadata": {
    "collapsed": true
   },
   "outputs": [],
   "source": [
    "wavelength = np.linspace(1000, 2000, 1001) * u.Angstrom\n",
    "velocity = np.linspace(-200, 800, 201) * u.Unit('km/s')"
   ]
  },
  {
   "cell_type": "code",
   "execution_count": 14,
   "metadata": {},
   "outputs": [],
   "source": [
    "# Define the parameter ranges\n",
    "v_doppler_range = np.logspace(6, 7, 3) * u.Unit('cm/s')\n",
    "column_density_range = 10 ** np.linspace(13, 14, 3) * u.Unit('1/cm2')\n",
    "delta_lambda_range = np.linspace(0, 2, 100) * u.Angstrom\n",
    "delta_v_range = np.linspace(0, 400, 100) * u.Unit('km/s')\n",
    "\n",
    "def generate(corr_func):\n",
    "    # Define the control spectrum. It does not change.\n",
    "    line1 = dict(lambda_0=1.21567010E+03 * u.Angstrom,\n",
    "                 gamma=6.2650000e+08, \n",
    "                 f_value=4.1640E-01,\n",
    "                 v_doppler=v_doppler_range[1],\n",
    "                 column_density=column_density_range[1])\n",
    "\n",
    "    spectrum1 = Spectrum1D(center=line1['lambda_0']).add_line(**line1)\n",
    "    \n",
    "    x, y1_f = Masker(continuum=np.ones(velocity.shape))(velocity, spectrum1.flux(velocity))\n",
    "    x, y1_t = Masker()(velocity, spectrum1.tau(velocity))\n",
    "    x, y1_d = Masker()(velocity, spectrum1.flux_decrement(velocity))\n",
    "    \n",
    "    def perform_variations(v_dop, col_dens):\n",
    "        corr, corr_tau, corr_dec = [], [], []\n",
    "\n",
    "        for dv in delta_v_range:\n",
    "            line2 = dict(lambda_0=1.21567010E+03 * u.Angstrom,\n",
    "                         gamma=6.2650000e+08, \n",
    "                         f_value=4.1640E-01,\n",
    "                         v_doppler=v_dop,\n",
    "                         column_density=col_dens,\n",
    "                         delta_v=dv)\n",
    "            \n",
    "            spectrum2 = Spectrum1D(center=line2['lambda_0']).add_line(**line2)\n",
    "            \n",
    "            x, y2_f = Masker(continuum=np.ones(velocity.shape))(velocity, spectrum2.flux(velocity))\n",
    "\n",
    "            corr.append(corr_func(x, y1_f, y2_f))\n",
    "            \n",
    "            x, y2_t = Masker()(velocity, spectrum2.tau(velocity))\n",
    "\n",
    "            corr_tau.append(corr_func(x, y1_t, y2_t))\n",
    "            \n",
    "            x, y2_d = Masker()(velocity, spectrum2.flux_decrement(velocity))\n",
    "\n",
    "            corr_dec.append(corr_func(x, y1_d, y2_d))\n",
    "        \n",
    "        return corr, corr_tau, corr_dec\n",
    "    \n",
    "    corr_mat_tau = np.zeros((v_doppler_range.size, column_density_range.size))\n",
    "    corr_mat_flux = np.zeros((v_doppler_range.size, column_density_range.size))\n",
    "    corr_mat_flux_dec = np.zeros((v_doppler_range.size, column_density_range.size))\n",
    "        \n",
    "    for i, v_dop in enumerate(v_doppler_range):\n",
    "        for j, col_dens in enumerate(column_density_range):\n",
    "            corr, corr_tau, corr_dec = perform_variations(v_dop, col_dens)\n",
    "            \n",
    "            corr_mat_tau[i][j] = corr\n",
    "            corr_mat_flux[i][j] = corr_tau\n",
    "            corr_mat_flux_dec[i][j] = corr_dec\n",
    "    \n",
    "    return {\n",
    "        'tau': {\n",
    "            'x': x,\n",
    "            'y': y1_t,\n",
    "            'corr': corr_mat\n",
    "        },\n",
    "        'flux': {\n",
    "            'x': x,\n",
    "            'y': y1_f,\n",
    "            'corr': corr_flux\n",
    "        },\n",
    "        'flux_dec': {\n",
    "            'x': x,\n",
    "            'y': y1_d,\n",
    "            'corr': corr_dec\n",
    "        },\n",
    "    }"
   ]
  },
  {
   "cell_type": "code",
   "execution_count": null,
   "metadata": {
    "collapsed": true
   },
   "outputs": [],
   "source": [
    "def plot_corr(res):\n",
    "    corr_flux = res['flux']['corr']\n",
    "    corr_tau = res['tau']['corr']\n",
    "    corr_flux_dec = res['flux_dec']['corr']\n",
    "    \n",
    "    f, (ax1, ax2, ax3) = plt.subplots(3, 1, sharex=True)\n",
    "\n",
    "    ax1.plot(delta_v_range, corr, label=\"$b=${:g}\\n$N=${:g}\".format(v_dop, col_dens), \n",
    "             color=colors[i], linestyle=line_styles[j])\n",
    "    ax2.plot(delta_v_range, corr_tau, label=\"$b=${:g}\\n$N=${:g}\".format(v_dop, col_dens), \n",
    "             color=colors[i], linestyle=line_styles[j])\n",
    "    ax3.plot(delta_v_range, corr_dec, label=\"$b=${:g}\\n$N=${:g}\".format(v_dop, col_dens), \n",
    "             color=colors[i], linestyle=line_styles[j])\n",
    "            \n",
    "def plot_shift(res):\n",
    "    "
   ]
  },
  {
   "cell_type": "code",
   "execution_count": 15,
   "metadata": {},
   "outputs": [
    {
     "ename": "NameError",
     "evalue": "name 'corr_tau' is not defined",
     "output_type": "error",
     "traceback": [
      "\u001b[0;31m---------------------------------------------------------------------------\u001b[0m",
      "\u001b[0;31mNameError\u001b[0m                                 Traceback (most recent call last)",
      "\u001b[0;32m<ipython-input-15-75662059dae1>\u001b[0m in \u001b[0;36m<module>\u001b[0;34m()\u001b[0m\n\u001b[1;32m      1\u001b[0m \u001b[0;32mfrom\u001b[0m \u001b[0mspectacle\u001b[0m\u001b[0;34m.\u001b[0m\u001b[0manalysis\u001b[0m\u001b[0;34m.\u001b[0m\u001b[0mmetrics\u001b[0m \u001b[0;32mimport\u001b[0m \u001b[0mEpsilon\u001b[0m\u001b[0;34m\u001b[0m\u001b[0m\n\u001b[0;32m----> 2\u001b[0;31m \u001b[0mres\u001b[0m \u001b[0;34m=\u001b[0m \u001b[0mgenerate\u001b[0m\u001b[0;34m(\u001b[0m\u001b[0;32mlambda\u001b[0m \u001b[0mx\u001b[0m\u001b[0;34m,\u001b[0m \u001b[0my1\u001b[0m\u001b[0;34m,\u001b[0m \u001b[0my2\u001b[0m\u001b[0;34m:\u001b[0m \u001b[0mEpsilon\u001b[0m\u001b[0;34m(\u001b[0m\u001b[0;34m)\u001b[0m\u001b[0;34m(\u001b[0m\u001b[0my1\u001b[0m\u001b[0;34m,\u001b[0m \u001b[0my2\u001b[0m\u001b[0;34m)\u001b[0m\u001b[0;34m)\u001b[0m\u001b[0;34m\u001b[0m\u001b[0m\n\u001b[0m",
      "\u001b[0;32m<ipython-input-14-cc5483b0e4c8>\u001b[0m in \u001b[0;36mgenerate\u001b[0;34m(corr_func)\u001b[0m\n\u001b[1;32m     53\u001b[0m             \u001b[0;34m'x'\u001b[0m\u001b[0;34m:\u001b[0m \u001b[0mx\u001b[0m\u001b[0;34m,\u001b[0m\u001b[0;34m\u001b[0m\u001b[0m\n\u001b[1;32m     54\u001b[0m             \u001b[0;34m'y'\u001b[0m\u001b[0;34m:\u001b[0m \u001b[0my1_t\u001b[0m\u001b[0;34m,\u001b[0m\u001b[0;34m\u001b[0m\u001b[0m\n\u001b[0;32m---> 55\u001b[0;31m             \u001b[0;34m'corr'\u001b[0m\u001b[0;34m:\u001b[0m \u001b[0mcorr_tau\u001b[0m\u001b[0;34m\u001b[0m\u001b[0m\n\u001b[0m\u001b[1;32m     56\u001b[0m         },\n\u001b[1;32m     57\u001b[0m         'flux': {\n",
      "\u001b[0;31mNameError\u001b[0m: name 'corr_tau' is not defined"
     ]
    }
   ],
   "source": [
    "from spectacle.analysis.metrics import Epsilon\n",
    "res = generate(lambda x, y1, y2: Epsilon()(y1, y2))"
   ]
  },
  {
   "cell_type": "code",
   "execution_count": null,
   "metadata": {
    "collapsed": true
   },
   "outputs": [],
   "source": [
    "from spectacle.analysis.metrics import CrossCorrelate\n",
    "corr_list = generate(lambda x, y1, y2: CrossCorrelate()(y1, y2))"
   ]
  },
  {
   "cell_type": "code",
   "execution_count": null,
   "metadata": {
    "collapsed": true
   },
   "outputs": [],
   "source": [
    "from spectacle.analysis.metrics import CorrMatrixCoeff\n",
    "corr_list = generate(lambda x, y1, y2: CorrMatrixCoeff()(y1, y2))"
   ]
  },
  {
   "cell_type": "code",
   "execution_count": null,
   "metadata": {
    "collapsed": true
   },
   "outputs": [],
   "source": [
    "from spectacle.analysis.metrics import KendallsTau\n",
    "corr_list = generate(lambda x, y1, y2: KendallsTau()(y1, y2))"
   ]
  },
  {
   "cell_type": "code",
   "execution_count": null,
   "metadata": {
    "collapsed": true
   },
   "outputs": [],
   "source": [
    "from spectacle.analysis.metrics import KolmogorovSmirnov\n",
    "corr_list = generate(lambda x, y1, y2: KolmogorovSmirnov()(y1, y2))"
   ]
  },
  {
   "cell_type": "code",
   "execution_count": null,
   "metadata": {
    "collapsed": true
   },
   "outputs": [],
   "source": [
    "from spectacle.analysis.metrics import AndersonDarling\n",
    "corr_list = generate(lambda x, y1, y2: AndersonDarling()(y1, y2))"
   ]
  },
  {
   "cell_type": "code",
   "execution_count": null,
   "metadata": {},
   "outputs": [],
   "source": [
    "from spectacle.analysis.metrics import DeltaV90\n",
    "corr_list = generate(DeltaV90())"
   ]
  },
  {
   "cell_type": "code",
   "execution_count": null,
   "metadata": {
    "collapsed": true
   },
   "outputs": [],
   "source": [
    "\n",
    "# line1 = dict(lambda_0=1.21567010E+03 * u.Angstrom,\n",
    "#                      gamma=6.2650000e+08, \n",
    "#                      f_value=4.1640E-01,\n",
    "#                      v_doppler=v_doppler_range[1],\n",
    "#                      column_density=column_density_range[1])\n",
    "\n",
    "# spectrum1 = Spectrum1D(center=line1['lambda_0']).add_line(**line1)\n",
    "\n",
    "# line2 = {}\n",
    "# line2.update(line1)\n",
    "# line2.update({'v_doppler': v_doppler_range[2]})\n",
    "# print(line2)\n",
    "# spectrum2 = Spectrum1D(center=line1['lambda_0']).add_line(**line2)\n",
    "\n",
    "# dv90 = DeltaV90()\n",
    "# print(dv90(velocity, spectrum1.tau(velocity), spectrum2.tau(velocity)))"
   ]
  }
 ],
 "metadata": {
  "kernelspec": {
   "display_name": "Python 3",
   "language": "python",
   "name": "python3"
  },
  "language_info": {
   "codemirror_mode": {
    "name": "ipython",
    "version": 3
   },
   "file_extension": ".py",
   "mimetype": "text/x-python",
   "name": "python",
   "nbconvert_exporter": "python",
   "pygments_lexer": "ipython3",
   "version": "3.6.2"
  }
 },
 "nbformat": 4,
 "nbformat_minor": 2
}
