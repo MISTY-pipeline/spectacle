{
 "cells": [
  {
   "cell_type": "code",
   "execution_count": 1,
   "metadata": {
    "collapsed": false
   },
   "outputs": [
    {
     "name": "stderr",
     "output_type": "stream",
     "text": [
      "INFO:root:Added misty to custom loaders.\n",
      "INFO:root:Added my-format to custom loaders.\n"
     ]
    }
   ],
   "source": [
    "from spectacle.modeling.models import Absorption1D\n",
    "from spectacle.core.spectra import Spectrum1D\n",
    "import numpy as np\n",
    "import matplotlib.pyplot as plt\n",
    "from astropy.io import fits\n",
    "from spectacle.modeling.fitting import LevMarFitter\n",
    "from uncertainties import unumpy as unp\n",
    "\n",
    "from astropy.modeling import fitting"
   ]
  },
  {
   "cell_type": "code",
   "execution_count": 2,
   "metadata": {
    "collapsed": false
   },
   "outputs": [],
   "source": [
    "%matplotlib notebook"
   ]
  },
  {
   "cell_type": "code",
   "execution_count": 3,
   "metadata": {
    "collapsed": true
   },
   "outputs": [],
   "source": [
    "# Load real data\n",
    "with fits.open(\"/Users/nearl/projects/hst_proposal/QSOALS/3C066A/3C066A_coadd_FUVM_final_all.fits\") as hdulist:\n",
    "    disp, flux, uncert, dq = hdulist[1].data['WAVE'], hdulist[1].data['FLUX'], \\\n",
    "                             hdulist[1].data['ERROR'], hdulist[1].data['DQ']"
   ]
  },
  {
   "cell_type": "code",
   "execution_count": 4,
   "metadata": {
    "collapsed": false
   },
   "outputs": [],
   "source": [
    "# Create a mask and apply it since we don't really care about the entire spectrum\n",
    "# mask = [(disp > 1276) & (disp < 1283)]\n",
    "mask = [(disp > 1252) & (disp < 1256)]\n",
    "\n",
    "flux = flux[mask]\n",
    "disp = disp[mask]\n",
    "uncert = uncert[mask]\n",
    "\n",
    "# Currently, the fitting assumes that the data is normalized to 1.0\n",
    "tmp_flux = unp.uarray(flux, uncert)\n",
    "tmp_flux /= np.median(tmp_flux)\n",
    "flux, uncert = unp.nominal_values(tmp_flux), unp.std_devs(tmp_flux)\n",
    "\n",
    "# Create spectrum object\n",
    "spectrum = Spectrum1D(flux, dispersion=disp, uncertainty=uncert)"
   ]
  },
  {
   "cell_type": "code",
   "execution_count": 7,
   "metadata": {
    "collapsed": false
   },
   "outputs": [
    {
     "name": "stdout",
     "output_type": "stream",
     "text": [
      "[ 0.1  3. ]\n",
      "() {}\n",
      "() {}\n",
      "() {}\n",
      "() {}\n",
      "() {}\n",
      "() {}\n",
      "() {}\n",
      "() {}\n",
      "() {}\n",
      "() {}\n"
     ]
    }
   ],
   "source": [
    "mod = Absorption1D(slope=0.1, intercept=3.0)\n",
    "mod.add_line(5, 10**4)\n",
    "\n",
    "print(mod.parameters)\n",
    "\n",
    "fit = fitting.LevMarLSQFitter()\n",
    "\n",
    "new_mod = fit(mod, np.arange(100), np.ones(100))"
   ]
  },
  {
   "cell_type": "code",
   "execution_count": null,
   "metadata": {
    "collapsed": false
   },
   "outputs": [],
   "source": []
  },
  {
   "cell_type": "code",
   "execution_count": null,
   "metadata": {
    "collapsed": false
   },
   "outputs": [],
   "source": []
  },
  {
   "cell_type": "code",
   "execution_count": null,
   "metadata": {
    "collapsed": false
   },
   "outputs": [],
   "source": []
  },
  {
   "cell_type": "code",
   "execution_count": null,
   "metadata": {
    "collapsed": false
   },
   "outputs": [],
   "source": []
  },
  {
   "cell_type": "code",
   "execution_count": null,
   "metadata": {
    "collapsed": false
   },
   "outputs": [],
   "source": []
  },
  {
   "cell_type": "code",
   "execution_count": null,
   "metadata": {
    "collapsed": false
   },
   "outputs": [],
   "source": []
  },
  {
   "cell_type": "code",
   "execution_count": null,
   "metadata": {
    "collapsed": false
   },
   "outputs": [],
   "source": []
  },
  {
   "cell_type": "code",
   "execution_count": null,
   "metadata": {
    "collapsed": true
   },
   "outputs": [],
   "source": []
  },
  {
   "cell_type": "code",
   "execution_count": null,
   "metadata": {
    "collapsed": true
   },
   "outputs": [],
   "source": []
  }
 ],
 "metadata": {
  "kernelspec": {
   "display_name": "Python 3",
   "language": "python",
   "name": "python3"
  },
  "language_info": {
   "codemirror_mode": {
    "name": "ipython",
    "version": 3
   },
   "file_extension": ".py",
   "mimetype": "text/x-python",
   "name": "python",
   "nbconvert_exporter": "python",
   "pygments_lexer": "ipython3",
   "version": "3.5.2"
  }
 },
 "nbformat": 4,
 "nbformat_minor": 1
}
