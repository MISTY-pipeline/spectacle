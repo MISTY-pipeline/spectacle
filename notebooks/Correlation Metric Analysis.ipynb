{
 "cells": [
  {
   "cell_type": "code",
   "execution_count": 1,
   "metadata": {
    "collapsed": false,
    "deletable": true,
    "editable": true
   },
   "outputs": [
    {
     "name": "stderr",
     "output_type": "stream",
     "text": [
      "INFO:root:Added misty to custom loaders.\n",
      "INFO:root:Added my-format to custom loaders.\n"
     ]
    }
   ],
   "source": [
    "from spectacle.core.spectra import Spectrum1D\n",
    "from spectacle.modeling.models import Absorption1D\n",
    "from spectacle.core.lines import Line\n",
    "from spectacle.process.lsf import LSF\n",
    "from spectacle.analysis.metrics import correlate, npcorrelate, cross_correlate, autocorrelate\n",
    "import matplotlib.pyplot as plt\n",
    "import numpy as np\n",
    "import uncertainties.unumpy as unp"
   ]
  },
  {
   "cell_type": "code",
   "execution_count": 2,
   "metadata": {
    "collapsed": false,
    "deletable": true,
    "editable": true
   },
   "outputs": [],
   "source": [
    "%matplotlib notebook\n",
    "# plt.rcParams[\"figure.figsize\"] = [16, 8]"
   ]
  },
  {
   "cell_type": "markdown",
   "metadata": {
    "deletable": true,
    "editable": true
   },
   "source": [
    "# Correlation Metric Analysis\n",
    "\n",
    "This notebook goes through a few different correlation metrics being explored right now."
   ]
  },
  {
   "cell_type": "code",
   "execution_count": 3,
   "metadata": {
    "collapsed": false,
    "deletable": true,
    "editable": true
   },
   "outputs": [
    {
     "ename": "TypeError",
     "evalue": "object of type 'Spectrum1D' has no len()",
     "output_type": "error",
     "traceback": [
      "\u001b[0;31m---------------------------------------------------------------------------\u001b[0m",
      "\u001b[0;31mTypeError\u001b[0m                                 Traceback (most recent call last)",
      "\u001b[0;32m<ipython-input-3-bd205e9cc3a2>\u001b[0m in \u001b[0;36m<module>\u001b[0;34m()\u001b[0m\n\u001b[1;32m      7\u001b[0m \u001b[0;34m\u001b[0m\u001b[0m\n\u001b[1;32m      8\u001b[0m \u001b[0mflux\u001b[0m \u001b[0;34m=\u001b[0m \u001b[0mspectrum_model1\u001b[0m\u001b[0;34m(\u001b[0m\u001b[0mdisp\u001b[0m\u001b[0;34m)\u001b[0m\u001b[0;34m\u001b[0m\u001b[0m\n\u001b[0;32m----> 9\u001b[0;31m \u001b[0mspectrum1\u001b[0m \u001b[0;34m=\u001b[0m \u001b[0mSpectrum1D\u001b[0m\u001b[0;34m(\u001b[0m\u001b[0mflux\u001b[0m\u001b[0;34m,\u001b[0m \u001b[0mdispersion\u001b[0m\u001b[0;34m=\u001b[0m\u001b[0mdisp\u001b[0m\u001b[0;34m,\u001b[0m \u001b[0mlines\u001b[0m\u001b[0;34m=\u001b[0m\u001b[0;34m[\u001b[0m\u001b[0mline\u001b[0m\u001b[0;34m]\u001b[0m\u001b[0;34m)\u001b[0m\u001b[0;34m\u001b[0m\u001b[0m\n\u001b[0m\u001b[1;32m     10\u001b[0m \u001b[0mspectrum1\u001b[0m\u001b[0;34m.\u001b[0m\u001b[0madd_noise\u001b[0m\u001b[0;34m(\u001b[0m\u001b[0;36m0.0025\u001b[0m\u001b[0;34m)\u001b[0m\u001b[0;34m\u001b[0m\u001b[0m\n\u001b[1;32m     11\u001b[0m \u001b[0mspectrum1\u001b[0m\u001b[0;34m.\u001b[0m\u001b[0muncertainty\u001b[0m \u001b[0;34m=\u001b[0m \u001b[0mnp\u001b[0m\u001b[0;34m.\u001b[0m\u001b[0msqrt\u001b[0m\u001b[0;34m(\u001b[0m\u001b[0mspectrum1\u001b[0m\u001b[0;34m.\u001b[0m\u001b[0mdata\u001b[0m \u001b[0;34m*\u001b[0m \u001b[0;36m0.01\u001b[0m\u001b[0;34m)\u001b[0m\u001b[0;34m\u001b[0m\u001b[0m\n",
      "\u001b[0;32m/Users/nearl/projects/spectacle/spectacle/core/spectra.py\u001b[0m in \u001b[0;36m__init__\u001b[0;34m(self, data, dispersion, uncertainty, dispersion_unit, lines, tau, *args, **kwargs)\u001b[0m\n\u001b[1;32m     29\u001b[0m \u001b[0;34m\u001b[0m\u001b[0m\n\u001b[1;32m     30\u001b[0m         \u001b[0;32mif\u001b[0m \u001b[0muncertainty\u001b[0m \u001b[0;32mis\u001b[0m \u001b[0;32mNone\u001b[0m\u001b[0;34m:\u001b[0m\u001b[0;34m\u001b[0m\u001b[0m\n\u001b[0;32m---> 31\u001b[0;31m             \u001b[0muncertainty\u001b[0m \u001b[0;34m=\u001b[0m \u001b[0mStdDevUncertainty\u001b[0m\u001b[0;34m(\u001b[0m\u001b[0mnp\u001b[0m\u001b[0;34m.\u001b[0m\u001b[0mzeros\u001b[0m\u001b[0;34m(\u001b[0m\u001b[0mlen\u001b[0m\u001b[0;34m(\u001b[0m\u001b[0mdata\u001b[0m\u001b[0;34m)\u001b[0m\u001b[0;34m)\u001b[0m\u001b[0;34m)\u001b[0m\u001b[0;34m\u001b[0m\u001b[0m\n\u001b[0m\u001b[1;32m     32\u001b[0m \u001b[0;34m\u001b[0m\u001b[0m\n\u001b[1;32m     33\u001b[0m         \u001b[0mself\u001b[0m\u001b[0;34m.\u001b[0m\u001b[0m_dispersion_unit\u001b[0m \u001b[0;34m=\u001b[0m \u001b[0mdispersion_unit\u001b[0m\u001b[0;34m\u001b[0m\u001b[0m\n",
      "\u001b[0;31mTypeError\u001b[0m: object of type 'Spectrum1D' has no len()"
     ]
    }
   ],
   "source": [
    "# Generate two spectrums to use for correlation\n",
    "\n",
    "disp = np.linspace(1150, 1250, 1000)\n",
    "\n",
    "line = Line(name=\"HI\", lambda_0=1.21567010E+03, v_doppler=1e7, column_density=10**14.66)\n",
    "spectrum_model1 = Absorption1D(lines=[line])\n",
    "\n",
    "flux = spectrum_model1(disp)\n",
    "# spectrum1 = Spectrum1D(flux, dispersion=disp, lines=[line])\n",
    "spectrum1.add_noise(0.0025)\n",
    "spectrum1.uncertainty = np.sqrt(spectrum1.data * 0.01)\n",
    "\n",
    "line = Line(name=\"HI2\", lambda_0=1.19567010E+03, v_doppler=1e7, column_density=10**14.66)\n",
    "spectrum_model2 = Absorption1D(lines=[line])\n",
    "\n",
    "flux = spectrum_model2(disp)\n",
    "spectrum2 = Spectrum1D(flux, dispersion=disp, lines=[line])\n",
    "spectrum2.add_noise(0.0025)\n",
    "spectrum2.uncertainty = np.sqrt(spectrum2.data * 0.01)\n",
    "\n",
    "# mask = (spectrum1.dispersion > 1150) & (spectrum1.dispersion < 1250)\n",
    "f, (ax1, ax2) = plt.subplots(1, 2)\n",
    "\n",
    "ax1.step(spectrum1.dispersion, spectrum1.data)#, yerr=spectrum1.uncertainty)\n",
    "ax1.step(spectrum2.dispersion, spectrum2.data)#, yerr=spectrum2.uncertainty)\n",
    "ax2.errorbar(spectrum1.dispersion, spectrum1.tau, yerr=spectrum1.tau_uncertainty)\n",
    "ax2.errorbar(spectrum2.dispersion, spectrum2.tau, yerr=spectrum2.tau_uncertainty)\n",
    "plt.show()"
   ]
  },
  {
   "cell_type": "markdown",
   "metadata": {
    "deletable": true,
    "editable": true
   },
   "source": [
    "## Peeples Correlation"
   ]
  },
  {
   "cell_type": "markdown",
   "metadata": {
    "deletable": true,
    "editable": true
   },
   "source": [
    "### True"
   ]
  },
  {
   "cell_type": "code",
   "execution_count": null,
   "metadata": {
    "collapsed": false,
    "deletable": true,
    "editable": true
   },
   "outputs": [],
   "source": [
    "vals, uncerts, use_mask = correlate(spectrum1, spectrum2)\n",
    "tvals, tuncerts, use_mask = correlate(spectrum1, spectrum2, use_tau=True)\n",
    "\n",
    "print(vals, uncerts)\n",
    "\n",
    "flux_sum = unp.uarray(vals, uncerts).sum()\n",
    "tau_sum = unp.uarray(tvals, tuncerts).sum()\n",
    "\n",
    "print(\"Sum: {}\".format(flux_sum.nominal_value, flux_sum.std_dev))\n",
    "print(\"Tau Sum: {}\".format(tau_sum.nominal_value, tau_sum.std_dev))\n",
    "\n",
    "f, (ax1, ax2) = plt.subplots(2, 1)\n",
    "ax1.errorbar(range(len(vals)), vals, yerr=uncerts)\n",
    "ax1.set_title(\"Flux Correlation, Sum: {}\".format(unp.uarray(vals, uncerts).sum()))\n",
    "ax2.errorbar(range(len(tvals)), tvals, yerr=tuncerts)\n",
    "ax2.set_title(\"Tau Correlation, Sum: {}+/-{}\".format(tau_sum.nominal_value, tau_sum.std_dev))\n",
    "\n",
    "plt.tight_layout()\n",
    "plt.show()"
   ]
  },
  {
   "cell_type": "markdown",
   "metadata": {
    "deletable": true,
    "editable": true
   },
   "source": [
    "### Lite"
   ]
  },
  {
   "cell_type": "code",
   "execution_count": null,
   "metadata": {
    "collapsed": false,
    "deletable": true,
    "editable": true
   },
   "outputs": [],
   "source": [
    "vals, uncerts, use_mask = correlate(spectrum1, spectrum2, mode='lite')\n",
    "tvals, tuncerts, use_mask = correlate(spectrum1, spectrum2, mode='lite', use_tau=True)\n",
    "\n",
    "tau_sum = unp.uarray(tvals, tuncerts).sum()\n",
    "\n",
    "print(\"Sum: {}\".format(unp.uarray(vals, uncerts).sum()))\n",
    "print(\"Tau Sum: {}\".format(tau_sum))\n",
    "\n",
    "f, (ax1, ax2) = plt.subplots(2, 1)\n",
    "ax1.errorbar(range(len(vals)), vals, yerr=uncerts)\n",
    "ax1.set_title(\"Flux Correlation, Sum: {}\".format(unp.uarray(vals, uncerts).sum()))\n",
    "ax2.errorbar(range(len(tvals)), tvals)#, yerr=tuncerts)\n",
    "ax2.set_title(\"Tau Correlation, Sum: {:.2}+/-{:.2}\".format(tau_sum.nominal_value, tau_sum.std_dev))\n",
    "\n",
    "plt.tight_layout()\n",
    "plt.show()"
   ]
  },
  {
   "cell_type": "markdown",
   "metadata": {
    "deletable": true,
    "editable": true
   },
   "source": [
    "### Full"
   ]
  },
  {
   "cell_type": "code",
   "execution_count": null,
   "metadata": {
    "collapsed": false,
    "deletable": true,
    "editable": true
   },
   "outputs": [],
   "source": [
    "vals, uncerts, use_mask = correlate(spectrum1, spectrum2, mode='full')\n",
    "tvals, tuncerts, use_mask = correlate(spectrum1, spectrum2, mode='full', use_tau=True)\n",
    "\n",
    "flux_sum = unp.uarray(vals, uncerts).sum()\n",
    "tau_sum = unp.uarray(tvals, tuncerts).sum()\n",
    "\n",
    "print(\"Sum: {}\".format(flux_sum))\n",
    "print(\"Tau Sum: {}\".format(tau_sum))\n",
    "\n",
    "f, (ax1, ax2) = plt.subplots(2, 1)\n",
    "ax1.errorbar(range(len(vals)), vals, yerr=uncerts)\n",
    "ax1.set_title(\"Flux Correlation, Sum: {}\".format(unp.uarray(vals, uncerts).sum()))\n",
    "ax2.errorbar(range(len(tvals)), tvals, yerr=tuncerts)\n",
    "ax2.set_title(\"Tau Correlation, Sum: {:.2}+/-{:.2}\".format(tau_sum.nominal_value, tau_sum.std_dev))\n",
    "\n",
    "plt.tight_layout()\n",
    "plt.show()"
   ]
  },
  {
   "cell_type": "markdown",
   "metadata": {
    "deletable": true,
    "editable": true
   },
   "source": [
    "## Numpy Correlate"
   ]
  },
  {
   "cell_type": "markdown",
   "metadata": {
    "deletable": true,
    "editable": true
   },
   "source": [
    "### `Valid` mode\n",
    "Mode ‘valid’ returns output of length max(M, N) - min(M, N) + 1. The convolution product is only given for points where the signals overlap completely. Values outside the signal boundary have no effect."
   ]
  },
  {
   "cell_type": "code",
   "execution_count": null,
   "metadata": {
    "collapsed": false,
    "deletable": true,
    "editable": true
   },
   "outputs": [],
   "source": [
    "vals, uncerts, use_mask = npcorrelate(spectrum1, spectrum2)\n",
    "tvals, tuncerts, use_mask = npcorrelate(spectrum1, spectrum2, use_tau=True)\n",
    "\n",
    "print(unp.uarray(vals, uncerts))\n",
    "print(unp.uarray(tvals, tuncerts))"
   ]
  },
  {
   "cell_type": "markdown",
   "metadata": {
    "deletable": true,
    "editable": true
   },
   "source": [
    "### `Same` mode\n",
    "Mode ‘same’ returns output of length max(M, N). Boundary effects are still visible."
   ]
  },
  {
   "cell_type": "code",
   "execution_count": null,
   "metadata": {
    "collapsed": false,
    "deletable": true,
    "editable": true
   },
   "outputs": [],
   "source": [
    "vals, uncerts, use_mask = npcorrelate(spectrum1, spectrum2, mode='same')\n",
    "tvals, tuncerts, use_mask = npcorrelate(spectrum1, spectrum2, mode='same', use_tau=True)\n",
    "\n",
    "f, (ax1, ax2) = plt.subplots(2, 1)\n",
    "ax1.errorbar(range(len(vals)), vals, yerr=uncerts)\n",
    "ax1.set_title(\"Flux Correlation, Sum: {}\".format(unp.uarray(vals, uncerts).sum()))\n",
    "ax2.errorbar(range(len(tvals)), tvals, yerr=tuncerts)\n",
    "ax2.set_title(\"Tau Correlation, Sum: {}\".format(unp.uarray(tvals, tuncerts).sum()))\n",
    "\n",
    "plt.tight_layout()\n",
    "plt.show()"
   ]
  },
  {
   "cell_type": "markdown",
   "metadata": {
    "deletable": true,
    "editable": true
   },
   "source": [
    "### `Full` mode\n",
    "By default, mode is ‘full’. This returns the convolution at each point of overlap, with an output shape of (N+M-1,). At the end-points of the convolution, the signals do not overlap completely, and boundary effects may be seen."
   ]
  },
  {
   "cell_type": "code",
   "execution_count": null,
   "metadata": {
    "collapsed": false,
    "deletable": true,
    "editable": true
   },
   "outputs": [],
   "source": [
    "vals, uncerts, use_mask = npcorrelate(spectrum1, spectrum2, mode='full')\n",
    "tvals, tuncerts, use_mask = npcorrelate(spectrum1, spectrum2, mode='full', use_tau=True)\n",
    "\n",
    "f, (ax1, ax2) = plt.subplots(2, 1)\n",
    "ax1.errorbar(range(len(vals)), vals, yerr=uncerts)\n",
    "ax1.set_title(\"Flux Correlation, Sum: {}\".format(unp.uarray(vals, uncerts).sum()))\n",
    "ax2.errorbar(range(len(tvals)), tvals, yerr=tuncerts)\n",
    "ax2.set_title(\"Tau Correlation, Sum: {}\".format(unp.uarray(tvals, tuncerts).sum()))\n",
    "\n",
    "plt.tight_layout()\n",
    "plt.show()"
   ]
  },
  {
   "cell_type": "markdown",
   "metadata": {
    "deletable": true,
    "editable": true
   },
   "source": [
    "## Peeples Autocorrelate"
   ]
  },
  {
   "cell_type": "code",
   "execution_count": null,
   "metadata": {
    "collapsed": false,
    "deletable": true,
    "editable": true
   },
   "outputs": [],
   "source": [
    "res1 = autocorrelate(spectrum1)\n",
    "res2 = autocorrelate(spectrum2)\n",
    "tres1 = autocorrelate(spectrum1, use_tau=True)\n",
    "tres2 = autocorrelate(spectrum2, use_tau=True)\n",
    "\n",
    "print(\"Spectrum1: {}\".format(unp.uarray(*res1)))\n",
    "print(\"Spectrum2: {}\".format(unp.uarray(*res2)))\n",
    "\n",
    "print(\"Tau Spectrum1: {}\".format(unp.uarray(*tres1)))\n",
    "print(\"Tau Spectrum2: {}\".format(unp.uarray(*tres2)))"
   ]
  },
  {
   "cell_type": "code",
   "execution_count": null,
   "metadata": {
    "collapsed": true,
    "deletable": true,
    "editable": true
   },
   "outputs": [],
   "source": []
  }
 ],
 "metadata": {
  "anaconda-cloud": {},
  "kernelspec": {
   "display_name": "Python 3",
   "language": "python",
   "name": "python3"
  },
  "language_info": {
   "codemirror_mode": {
    "name": "ipython",
    "version": 3
   },
   "file_extension": ".py",
   "mimetype": "text/x-python",
   "name": "python",
   "nbconvert_exporter": "python",
   "pygments_lexer": "ipython3",
   "version": "3.5.2"
  }
 },
 "nbformat": 4,
 "nbformat_minor": 1
}
